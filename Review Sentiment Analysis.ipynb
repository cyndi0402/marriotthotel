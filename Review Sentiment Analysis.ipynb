{
 "cells": [
  {
   "cell_type": "markdown",
   "id": "3b1a4c55",
   "metadata": {},
   "source": [
    "* NLTK\n",
    "* Scikit-learn"
   ]
  },
  {
   "cell_type": "code",
   "execution_count": 17,
   "id": "fd267974",
   "metadata": {},
   "outputs": [
    {
     "name": "stdout",
     "output_type": "stream",
     "text": [
      "<class 'pandas.core.frame.DataFrame'>\n",
      "RangeIndex: 3179 entries, 0 to 3178\n",
      "Data columns (total 13 columns):\n",
      " #   Column           Non-Null Count  Dtype  \n",
      "---  ------           --------------  -----  \n",
      " 0   Customer         3176 non-null   object \n",
      " 1   Member_Type      2277 non-null   object \n",
      " 2   Traveler_Type    3164 non-null   object \n",
      " 3   Date             3179 non-null   object \n",
      " 4   Review           3156 non-null   object \n",
      " 5   Total_Score      3179 non-null   float64\n",
      " 6   Cleanliness      3158 non-null   float64\n",
      " 7   Dining           2849 non-null   float64\n",
      " 8   Location         3155 non-null   float64\n",
      " 9   Service          3155 non-null   float64\n",
      " 10  Amenities        3118 non-null   float64\n",
      " 11  Value_for_Money  3152 non-null   float64\n",
      " 12  Hotel            3179 non-null   object \n",
      "dtypes: float64(7), object(6)\n",
      "memory usage: 323.0+ KB\n"
     ]
    }
   ],
   "source": [
    "import pandas as pd\n",
    "df = pd.read_csv('/Users/cynding/Desktop/Brandeis 2021 Fall/BUS 256A - Marketing Analytics/final project/marriott_hotel_reviews.csv')\n",
    "df.info()"
   ]
  },
  {
   "cell_type": "markdown",
   "id": "4a2af631",
   "metadata": {},
   "source": [
    "### Clean Data"
   ]
  },
  {
   "cell_type": "code",
   "execution_count": 19,
   "id": "a1c855eb",
   "metadata": {},
   "outputs": [],
   "source": [
    "df['Review']=df['Review'].astype(str)"
   ]
  },
  {
   "cell_type": "code",
   "execution_count": 45,
   "id": "0c8d13a0",
   "metadata": {},
   "outputs": [],
   "source": [
    "# return the wordnet object value corresponding to the POS tag\n",
    "from nltk.corpus import wordnet\n",
    "\n",
    "'''\n",
    "Part-Of-Speech (POS) tagging: assign a tag to every word to define \n",
    "if it corresponds to a noun, a verb etc. using the WordNet lexical database\n",
    "'''\n",
    "def get_wordnet_pos(pos_tag):\n",
    "    if pos_tag.startswith('J'):\n",
    "        return wordnet.ADJ\n",
    "    elif pos_tag.startswith('V'):\n",
    "        return wordnet.VERB\n",
    "    elif pos_tag.startswith('N'):\n",
    "        return wordnet.NOUN\n",
    "    elif pos_tag.startswith('R'):\n",
    "        return wordnet.ADV\n",
    "    else:\n",
    "        return wordnet.NOUN\n",
    "    \n",
    "import string\n",
    "from nltk import pos_tag\n",
    "from nltk.corpus import stopwords\n",
    "from nltk.tokenize import WhitespaceTokenizer\n",
    "from nltk.stem import WordNetLemmatizer\n",
    "\n",
    "def clean_text(text):\n",
    "    # lower text\n",
    "    text = text.lower()\n",
    "    # tokenize text and remove puncutation\n",
    "    text = [word.strip(string.punctuation) for word in text.split(\" \")]\n",
    "    # remove words that contain numbers\n",
    "    text = [word for word in text if not any(c.isdigit() for c in word)]\n",
    "    # remove stop words\n",
    "    stop = stopwords.words('english')\n",
    "    text = [x for x in text if x not in stop]\n",
    "    # remove empty tokens\n",
    "    text = [t for t in text if len(t) > 0]\n",
    "    # pos tag text\n",
    "    pos_tags = pos_tag(text)\n",
    "    # lemmatize text: transform every word into their root form \n",
    "    text = [WordNetLemmatizer().lemmatize(t[0], get_wordnet_pos(t[1])) for t in pos_tags]\n",
    "    # remove words with only one letter\n",
    "    text = [t for t in text if len(t) > 1]\n",
    "    # join all\n",
    "    text = \" \".join(text)\n",
    "    return(text)\n",
    "\n",
    "# clean text data\n",
    "df['Review'] = df['Review'].apply(lambda x: clean_text(x))"
   ]
  },
  {
   "cell_type": "code",
   "execution_count": 50,
   "id": "4ccc9b71",
   "metadata": {},
   "outputs": [],
   "source": [
    "df['Review'] = df['Review'].str.replace(\"n't\",\" not\")\n",
    "df['Review'] = df['Review'].str.replace(\"I'm\",\"I am\")\n",
    "df['Review'] = df['Review'].str.replace(\"I've\",\"I have\")\n",
    "df['Review'] = df['Review'].str.replace(\"they're\",\"they are\")\n",
    "df['Review'] = df['Review'].str.replace(\"they've\",\"they have\")\n",
    "df['Review'] = df['Review'].str.replace(\"might've\",\"might have\")\n",
    "df['Review'] = df['Review'].str.replace(\"must've\",\"must have\")\n",
    "df['Review'] = df['Review'].str.replace(\"should've\",\"should have\")\n",
    "df['Review'] = df['Review'].str.replace(\"would've\",\"would have\")\n",
    "df['Review'] = df['Review'].str.replace(\"could've\",\"could have\")\n",
    "df['Review'] = df['Review'].str.replace(\"we're\",\"we are\")\n",
    "df['Review'] = df['Review'].str.replace(\"'ll\",\" will\")\n",
    "df['Review'] = df['Review'].str.replace(\"It's\",\"It is\")\n",
    "df['Review'] = df['Review'].str.replace(\"it's\",\"It is\")\n",
    "df['Review'] = df['Review'].str.replace(\"where's\",\"where is\")\n",
    "df['Review'] = df['Review'].str.replace(\"that's\",\"that is\")\n",
    "df['Review'] = df['Review'].str.replace(\"who's\",\"who is\")"
   ]
  },
  {
   "cell_type": "code",
   "execution_count": 51,
   "id": "15b75130",
   "metadata": {},
   "outputs": [
    {
     "data": {
      "text/plain": [
       "0    wonderful night stay… beautiful room comfortab...\n",
       "1                    excellent hotel reception perfect\n",
       "2                                           prepayment\n",
       "3    hubby stay overnight staff hotel pleasant help...\n",
       "4    great cost-benefit i will back always need gre...\n",
       "Name: Review, dtype: object"
      ]
     },
     "execution_count": 51,
     "metadata": {},
     "output_type": "execute_result"
    }
   ],
   "source": [
    "df['Review'].head()"
   ]
  },
  {
   "cell_type": "markdown",
   "id": "65a79fbd",
   "metadata": {},
   "source": [
    "### Feature Engineering"
   ]
  },
  {
   "cell_type": "code",
   "execution_count": 30,
   "id": "9987f886",
   "metadata": {},
   "outputs": [],
   "source": [
    "# add sentiment anaylsis columns\n",
    "from nltk.sentiment.vader import SentimentIntensityAnalyzer\n",
    "\n",
    "sid = SentimentIntensityAnalyzer()\n",
    "df['sentiments'] = df['Review'].apply(lambda x: sid.polarity_scores(x))\n",
    "df = pd.concat([df.drop(['sentiments'], axis=1), df['sentiments'].apply(pd.Series)], axis=1)"
   ]
  },
  {
   "cell_type": "code",
   "execution_count": 47,
   "id": "f6b618d3",
   "metadata": {},
   "outputs": [],
   "source": [
    "import numpy as np\n",
    "from sklearn.feature_extraction.text import TfidfVectorizer\n",
    "from sklearn.model_selection import train_test_split\n",
    "from sklearn.naive_bayes import MultinomialNB"
   ]
  },
  {
   "cell_type": "code",
   "execution_count": 52,
   "id": "ff61c31b",
   "metadata": {},
   "outputs": [],
   "source": [
    "# Remove rows with NA Value\n",
    "df = df[df['Cleanliness'].notna()]\n",
    "df = df[df['Dining'].notna()]\n",
    "df = df[df['Location'].notna()]\n",
    "df = df[df['Service'].notna()]\n",
    "df = df[df['Amenities'].notna()]\n",
    "df = df[df['Value_for_Money'].notna()]\n",
    "\n",
    "df_x = df['Review']\n",
    "df_y = df['Total_Score']\n",
    "df_y1 = df['Cleanliness']\n",
    "df_y2 = df['Dining']\n",
    "df_y3 = df['Location']\n",
    "df_y4 = df['Service']\n",
    "df_y5 = df['Amenities']\n",
    "df_y6 = df['Value_for_Money']"
   ]
  },
  {
   "cell_type": "code",
   "execution_count": 56,
   "id": "72fe9f0e",
   "metadata": {},
   "outputs": [
    {
     "name": "stdout",
     "output_type": "stream",
     "text": [
      "The accuracy rate is 0.6742857142857143\n"
     ]
    }
   ],
   "source": [
    "x_train, x_test, y_train, y_test = train_test_split(df_x,df_y,test_size=0.25,random_state=0)\n",
    "\n",
    "cv = TfidfVectorizer(stop_words = 'english')\n",
    "x_traincv = cv.fit_transform(x_train.values.astype('U'))\n",
    "a=x_traincv.toarray()\n",
    "a.shape\n",
    "\n",
    "mnb = MultinomialNB()\n",
    "y_train = y_train.astype('int')\n",
    "mnb.fit(x_traincv,y_train)\n",
    "\n",
    "x_testcv = cv.transform(x_test.values.astype('U'))\n",
    "y_pred = mnb.predict(x_testcv)\n",
    "\n",
    "actual = np.array(y_test)\n",
    "\n",
    "count = 0\n",
    "for i in range (len(y_pred)):\n",
    "    if y_pred[i] == actual[i]:\n",
    "        count = count+1\n",
    "print('The accuracy rate is',count/len(y_pred))"
   ]
  },
  {
   "cell_type": "code",
   "execution_count": 55,
   "id": "9ce18c4e",
   "metadata": {},
   "outputs": [
    {
     "name": "stdout",
     "output_type": "stream",
     "text": [
      "The accuracy rate is 0.7185714285714285\n"
     ]
    }
   ],
   "source": [
    "x_train, x_test, y1_train, y1_test = train_test_split(df_x,df_y1,test_size=0.25,random_state=0)\n",
    "\n",
    "cv = TfidfVectorizer(stop_words = 'english')\n",
    "x_traincv = cv.fit_transform(x_train.values.astype('U'))\n",
    "a=x_traincv.toarray()\n",
    "\n",
    "\n",
    "mnb = MultinomialNB()\n",
    "y1_train = y1_train.astype('int')\n",
    "mnb.fit(x_traincv,y1_train)\n",
    "\n",
    "x_testcv = cv.transform(x_test.values.astype('U'))\n",
    "y1_pred = mnb.predict(x_testcv)\n",
    "\n",
    "\n",
    "y1_actual = np.array(y1_test)\n",
    "\n",
    "\n",
    "count1 = 0\n",
    "for i in range (len(y1_pred)):\n",
    "    if y1_pred[i] == y1_actual[i]:\n",
    "        count1 = count1+1\n",
    "print('The accuracy rate is',count1/len(y1_pred))"
   ]
  },
  {
   "cell_type": "code",
   "execution_count": 57,
   "id": "1a0d1317",
   "metadata": {},
   "outputs": [
    {
     "name": "stdout",
     "output_type": "stream",
     "text": [
      "The accuracy rate is 0.7157142857142857\n"
     ]
    }
   ],
   "source": [
    "# %% Dining 69.10%\n",
    "\n",
    "x_train, x_test, y2_train, y2_test = train_test_split(df_x,df_y2,test_size=0.25,random_state=0)\n",
    "\n",
    "cv = TfidfVectorizer(stop_words = 'english')\n",
    "x_traincv = cv.fit_transform(x_train.values.astype('U'))\n",
    "a=x_traincv.toarray()\n",
    "\n",
    "\n",
    "mnb = MultinomialNB()\n",
    "y2_train = y2_train.astype('int')\n",
    "mnb.fit(x_traincv,y2_train)\n",
    "\n",
    "x_testcv = cv.transform(x_test.values.astype('U'))\n",
    "y2_pred = mnb.predict(x_testcv)\n",
    "\n",
    "\n",
    "y2_actual = np.array(y1_test)\n",
    "\n",
    "\n",
    "count2 = 0\n",
    "for i in range (len(y2_pred)):\n",
    "    if y2_pred[i] == y2_actual[i]:\n",
    "        count2 = count2+1\n",
    "print('The accuracy rate is',count2/len(y2_pred))"
   ]
  },
  {
   "cell_type": "code",
   "execution_count": 58,
   "id": "cee798c3",
   "metadata": {},
   "outputs": [
    {
     "name": "stdout",
     "output_type": "stream",
     "text": [
      "The accuracy rate is 0.71\n"
     ]
    }
   ],
   "source": [
    "# %% Location 70.29%\n",
    "\n",
    "x_train, x_test, y3_train, y3_test = train_test_split(df_x,df_y3,test_size=0.25,random_state=0)\n",
    "\n",
    "cv = TfidfVectorizer(stop_words = 'english')\n",
    "x_traincv = cv.fit_transform(x_train.values.astype('U'))\n",
    "a=x_traincv.toarray()\n",
    "\n",
    "\n",
    "mnb = MultinomialNB()\n",
    "y3_train = y3_train.astype('int')\n",
    "mnb.fit(x_traincv,y3_train)\n",
    "\n",
    "x_testcv = cv.transform(x_test.values.astype('U'))\n",
    "y3_pred = mnb.predict(x_testcv)\n",
    "\n",
    "\n",
    "y3_actual = np.array(y1_test)\n",
    "\n",
    "\n",
    "count3 = 0\n",
    "for i in range (len(y3_pred)):\n",
    "    if y3_pred[i] == y3_actual[i]:\n",
    "        count3 = count3+1\n",
    "print('The accuracy rate is',count3/len(y3_pred))"
   ]
  },
  {
   "cell_type": "code",
   "execution_count": 59,
   "id": "29600c0d",
   "metadata": {},
   "outputs": [
    {
     "name": "stdout",
     "output_type": "stream",
     "text": [
      "The accuracy rate is 0.7171428571428572\n"
     ]
    }
   ],
   "source": [
    "x_train, x_test, y4_train, y4_test = train_test_split(df_x,df_y4,test_size=0.25,random_state=0)\n",
    "\n",
    "cv = TfidfVectorizer(stop_words = 'english')\n",
    "x_traincv = cv.fit_transform(x_train.values.astype('U'))\n",
    "a=x_traincv.toarray()\n",
    "\n",
    "\n",
    "mnb = MultinomialNB()\n",
    "y4_train = y4_train.astype('int')\n",
    "mnb.fit(x_traincv,y4_train)\n",
    "\n",
    "x_testcv = cv.transform(x_test.values.astype('U'))\n",
    "y4_pred = mnb.predict(x_testcv)\n",
    "\n",
    "\n",
    "y4_actual = np.array(y1_test)\n",
    "\n",
    "\n",
    "count4 = 0\n",
    "for i in range (len(y4_pred)):\n",
    "    if y4_pred[i] == y4_actual[i]:\n",
    "        count4 = count4+1\n",
    "print('The accuracy rate is',count4/len(y4_pred))"
   ]
  },
  {
   "cell_type": "code",
   "execution_count": 60,
   "id": "4d309148",
   "metadata": {},
   "outputs": [
    {
     "name": "stdout",
     "output_type": "stream",
     "text": [
      "The accuracy rate is 0.7242857142857143\n"
     ]
    }
   ],
   "source": [
    "# %% Amenities = 72.16%\n",
    "\n",
    "x_train, x_test, y5_train, y5_test = train_test_split(df_x,df_y5,test_size=0.25,random_state=0)\n",
    "\n",
    "cv = TfidfVectorizer(stop_words = 'english')\n",
    "x_traincv = cv.fit_transform(x_train.values.astype('U'))\n",
    "a=x_traincv.toarray()\n",
    "\n",
    "\n",
    "mnb = MultinomialNB()\n",
    "y5_train = y5_train.astype('int')\n",
    "mnb.fit(x_traincv,y5_train)\n",
    "\n",
    "x_testcv = cv.transform(x_test.values.astype('U'))\n",
    "y5_pred = mnb.predict(x_testcv)\n",
    "\n",
    "\n",
    "y5_actual = np.array(y1_test)\n",
    "\n",
    "\n",
    "count5 = 0\n",
    "for i in range (len(y5_pred)):\n",
    "    if y5_pred[i] == y5_actual[i]:\n",
    "        count5 = count5+1\n",
    "print('The accuracy rate is',count5/len(y5_pred))\n"
   ]
  },
  {
   "cell_type": "code",
   "execution_count": 61,
   "id": "5a7bebbb",
   "metadata": {},
   "outputs": [
    {
     "name": "stdout",
     "output_type": "stream",
     "text": [
      "The accuracy rate is 0.72\n"
     ]
    }
   ],
   "source": [
    "x_train, x_test, y6_train, y6_test = train_test_split(df_x,df_y6,test_size=0.25,random_state=0)\n",
    "\n",
    "cv = TfidfVectorizer(stop_words = 'english')\n",
    "x_traincv = cv.fit_transform(x_train.values.astype('U'))\n",
    "a=x_traincv.toarray()\n",
    "\n",
    "\n",
    "mnb = MultinomialNB()\n",
    "y6_train = y6_train.astype('int')\n",
    "mnb.fit(x_traincv,y6_train)\n",
    "\n",
    "x_testcv = cv.transform(x_test.values.astype('U'))\n",
    "y6_pred = mnb.predict(x_testcv)\n",
    "\n",
    "\n",
    "y6_actual = np.array(y1_test)\n",
    "\n",
    "\n",
    "count6 = 0\n",
    "for i in range (len(y6_pred)):\n",
    "    if y6_pred[i] == y6_actual[i]:\n",
    "        count6 = count6+1\n",
    "print('The accuracy rate is',count6/len(y6_pred))"
   ]
  },
  {
   "cell_type": "code",
   "execution_count": 63,
   "id": "86fefc47",
   "metadata": {},
   "outputs": [
    {
     "name": "stdout",
     "output_type": "stream",
     "text": [
      "+-------------+------------+--------+----------+---------+-----------+-----------------+\n",
      "| Total Score | Cleaniness | Dining | Location | Service | Amenities | Value for Money |\n",
      "+-------------+------------+--------+----------+---------+-----------+-----------------+\n",
      "|    67.43%   |   71.86%   | 71.57% |  71.00%  |  71.71% |   72.43%  |      72.00%     |\n",
      "+-------------+------------+--------+----------+---------+-----------+-----------------+\n"
     ]
    }
   ],
   "source": [
    "from prettytable import PrettyTable\n",
    "x=PrettyTable()\n",
    "x.field_names=['Total Score','Cleaniness','Dining','Location','Service','Amenities','Value for Money']\n",
    "x.add_row([\"{:.2%}\".format(count/len(y_pred)),\"{:.2%}\".format(count1/len(y1_pred)),\"{:.2%}\".format(count2/len(y2_pred)),\"{:.2%}\".format(count3/len(y3_pred)),\"{:.2%}\".format(count4/len(y4_pred)),\"{:.2%}\".format(count5/len(y5_pred)),\"{:.2%}\".format(count6/len(y6_pred))])\n",
    "print(x)"
   ]
  },
  {
   "cell_type": "code",
   "execution_count": null,
   "id": "861502ef",
   "metadata": {},
   "outputs": [],
   "source": []
  }
 ],
 "metadata": {
  "kernelspec": {
   "display_name": "Python 3 (ipykernel)",
   "language": "python",
   "name": "python3"
  },
  "language_info": {
   "codemirror_mode": {
    "name": "ipython",
    "version": 3
   },
   "file_extension": ".py",
   "mimetype": "text/x-python",
   "name": "python",
   "nbconvert_exporter": "python",
   "pygments_lexer": "ipython3",
   "version": "3.8.8"
  }
 },
 "nbformat": 4,
 "nbformat_minor": 5
}
