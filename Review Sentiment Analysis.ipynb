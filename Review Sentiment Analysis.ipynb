{
 "cells": [
  {
   "cell_type": "code",
   "execution_count": 1,
   "id": "fd267974",
   "metadata": {},
   "outputs": [
    {
     "name": "stdout",
     "output_type": "stream",
     "text": [
      "<class 'pandas.core.frame.DataFrame'>\n",
      "RangeIndex: 3179 entries, 0 to 3178\n",
      "Data columns (total 13 columns):\n",
      " #   Column           Non-Null Count  Dtype  \n",
      "---  ------           --------------  -----  \n",
      " 0   Customer         3176 non-null   object \n",
      " 1   Member_Type      2277 non-null   object \n",
      " 2   Traveler_Type    3164 non-null   object \n",
      " 3   Date             3179 non-null   object \n",
      " 4   Review           3156 non-null   object \n",
      " 5   Total_Score      3179 non-null   float64\n",
      " 6   Cleanliness      3158 non-null   float64\n",
      " 7   Dining           2849 non-null   float64\n",
      " 8   Location         3155 non-null   float64\n",
      " 9   Service          3155 non-null   float64\n",
      " 10  Amenities        3118 non-null   float64\n",
      " 11  Value_for_Money  3152 non-null   float64\n",
      " 12  Hotel            3179 non-null   object \n",
      "dtypes: float64(7), object(6)\n",
      "memory usage: 323.0+ KB\n"
     ]
    }
   ],
   "source": [
    "import numpy as np\n",
    "import pandas as pd\n",
    "df = pd.read_csv('/Users/cynding/Desktop/Brandeis 2021 Fall/BUS 256A - Marketing Analytics/final project/marriott_hotel_reviews.csv')\n",
    "df.info()"
   ]
  },
  {
   "cell_type": "markdown",
   "id": "4a2af631",
   "metadata": {},
   "source": [
    "### Clean Text Data"
   ]
  },
  {
   "cell_type": "code",
   "execution_count": 2,
   "id": "a1c855eb",
   "metadata": {},
   "outputs": [],
   "source": [
    "df['Review']=df['Review'].astype(str)"
   ]
  },
  {
   "cell_type": "code",
   "execution_count": 3,
   "id": "8f74cdeb",
   "metadata": {},
   "outputs": [],
   "source": [
    "# return the wordnet object value corresponding to the POS tag\n",
    "from nltk.corpus import wordnet\n",
    "import string\n",
    "from nltk import pos_tag\n",
    "from nltk.corpus import stopwords\n",
    "from nltk.tokenize import WhitespaceTokenizer\n",
    "from nltk.stem import WordNetLemmatizer\n",
    "\n",
    "'''\n",
    "Part-Of-Speech (POS) tagging: assign a tag to every word to define \n",
    "if it corresponds to a noun, a verb etc. using the WordNet lexical database\n",
    "'''\n",
    "\n",
    "def get_wordnet_pos(pos_tag):\n",
    "    if pos_tag.startswith('J'):\n",
    "        return wordnet.ADJ\n",
    "    elif pos_tag.startswith('V'):\n",
    "        return wordnet.VERB\n",
    "    elif pos_tag.startswith('N'):\n",
    "        return wordnet.NOUN\n",
    "    elif pos_tag.startswith('R'):\n",
    "        return wordnet.ADV\n",
    "    else:\n",
    "        return wordnet.NOUN"
   ]
  },
  {
   "cell_type": "code",
   "execution_count": 4,
   "id": "0c8d13a0",
   "metadata": {},
   "outputs": [],
   "source": [
    "def clean_text(text):\n",
    "    # lower text\n",
    "    text = text.lower()\n",
    "    #\n",
    "    text = text.replace(\"n't\",\" not\")\n",
    "    text = text.replace(\"i'm\",\"i am\")\n",
    "    text = text.replace(\"i'd\",\"i would\")\n",
    "    text = text.replace(\"i've\",\"i have\")\n",
    "    text = text.replace(\"could've\",\"could have\")\n",
    "    text = text.replace(\"we're\",\"we are\")\n",
    "    text = text.replace(\"'ll\",\" will\")\n",
    "    text = text.replace(\"that's\",\"that is\")\n",
    "    \n",
    "    # tokenize text and remove puncutation\n",
    "    text = [word.strip(string.punctuation) for word in text.split(\" \")]\n",
    "    # remove words that contain numbers\n",
    "    text = [word for word in text if not any(c.isdigit() for c in word)]\n",
    "    # remove stop words\n",
    "    stop = stopwords.words('english')\n",
    "    text = [x for x in text if x not in stop]\n",
    "    # remove empty tokens\n",
    "    text = [t for t in text if len(t) > 0]\n",
    "    # pos tag text\n",
    "    pos_tags = pos_tag(text)\n",
    "    # lemmatize text: transform every word into their root form \n",
    "    text = [WordNetLemmatizer().lemmatize(t[0], get_wordnet_pos(t[1])) for t in pos_tags]\n",
    "    # remove words with only one letter\n",
    "    text = [t for t in text if len(t) > 1]\n",
    "    # join all\n",
    "    text = \" \".join(text)\n",
    "    return(text)\n",
    "\n",
    "# clean text data\n",
    "df['Review'] = df['Review'].apply(lambda x: clean_text(x))"
   ]
  },
  {
   "cell_type": "markdown",
   "id": "65a79fbd",
   "metadata": {},
   "source": [
    "### Feature Engineering"
   ]
  },
  {
   "cell_type": "code",
   "execution_count": 5,
   "id": "9987f886",
   "metadata": {},
   "outputs": [],
   "source": [
    "# add sentiment anaylsis columns\n",
    "#from nltk.sentiment.vader import SentimentIntensityAnalyzer\n",
    "\n",
    "#sid = SentimentIntensityAnalyzer()\n",
    "#df['sentiments'] = df['Review'].apply(lambda x: sid.polarity_scores(x))\n",
    "#df = pd.concat([df.drop(['sentiments'], axis=1), df['sentiments'].apply(pd.Series)], axis=1)"
   ]
  },
  {
   "cell_type": "code",
   "execution_count": 6,
   "id": "f6b618d3",
   "metadata": {},
   "outputs": [],
   "source": [
    "from sklearn.feature_extraction.text import TfidfVectorizer"
   ]
  },
  {
   "cell_type": "code",
   "execution_count": 7,
   "id": "23cfe34c",
   "metadata": {},
   "outputs": [],
   "source": [
    "tfidf = TfidfVectorizer(min_df = 5)\n",
    "tfidf_result = tfidf.fit_transform(df['Review'].astype('U')).toarray()\n",
    "tfidf_df = pd.DataFrame(tfidf_result,columns=tfidf.get_feature_names_out())\n",
    "tfidf_df.columns = [\"word_\" + str(x) for x in tfidf_df.columns]\n",
    "tfidf_df.index = df.index\n",
    "df = pd.concat([df, tfidf_df], axis=1)"
   ]
  },
  {
   "cell_type": "markdown",
   "id": "cd524da2",
   "metadata": {},
   "source": [
    "### Modelling"
   ]
  },
  {
   "cell_type": "markdown",
   "id": "6429f4bd",
   "metadata": {},
   "source": [
    "#### The classifiers I have used\n",
    "- Random Forest Classifier\n",
    "- Naive-Bayes Classifier\n",
    "- KNN Classifier"
   ]
  },
  {
   "cell_type": "code",
   "execution_count": 8,
   "id": "7b2aa019",
   "metadata": {},
   "outputs": [],
   "source": [
    "from sklearn.model_selection import train_test_split\n",
    "\n",
    "# Models\n",
    "from sklearn.ensemble import RandomForestClassifier\n",
    "from sklearn.naive_bayes import MultinomialNB\n",
    "from sklearn.neighbors import KNeighborsClassifier"
   ]
  },
  {
   "cell_type": "code",
   "execution_count": 9,
   "id": "1078c9e5",
   "metadata": {},
   "outputs": [],
   "source": [
    "label = 'Total_Score'\n",
    "features = [c for c in tfidf_df.columns]\n",
    "\n",
    "X_train, X_test, y_train, y_test = train_test_split(df[features], df[label], test_size = 0.20, random_state = 42)"
   ]
  },
  {
   "cell_type": "markdown",
   "id": "42e63927",
   "metadata": {},
   "source": [
    "#### 1. Random Forest Classifier"
   ]
  },
  {
   "cell_type": "code",
   "execution_count": 10,
   "id": "fe72cf1c",
   "metadata": {},
   "outputs": [],
   "source": [
    "# train a random forest classifier\n",
    "rf = RandomForestClassifier(n_estimators = 100, random_state = 42)\n",
    "# n_estimators is the number of trees you want to build before taking the maximum voting or averages of predictions\n",
    "rf.fit(X_train, y_train)\n",
    "y_pred = rf.predict(X_test)\n",
    "\n",
    "rf_train_score = rf.score(X_train,y_train)\n",
    "rf_test_score = rf.score(X_test,y_test)"
   ]
  },
  {
   "cell_type": "markdown",
   "id": "713a96be",
   "metadata": {},
   "source": [
    "#### 2. Naive Bayes Classifier"
   ]
  },
  {
   "cell_type": "code",
   "execution_count": 11,
   "id": "26e79d44",
   "metadata": {},
   "outputs": [],
   "source": [
    "# train a naive bayes classifier\n",
    "mnb = MultinomialNB()\n",
    "mnb.fit(X_train, y_train)\n",
    "\n",
    "mnb_train_score = mnb.score(X_train,y_train)\n",
    "mnb_test_score = mnb.score(X_test,y_test)"
   ]
  },
  {
   "cell_type": "code",
   "execution_count": 13,
   "id": "b1e2bc03",
   "metadata": {},
   "outputs": [
    {
     "name": "stderr",
     "output_type": "stream",
     "text": [
      "/Users/cynding/opt/anaconda3/lib/python3.8/site-packages/sklearn/base.py:445: UserWarning: X does not have valid feature names, but MultinomialNB was fitted with feature names\n",
      "  warnings.warn(\n"
     ]
    },
    {
     "data": {
      "image/png": "[encoded data removed]",
      "text/plain": [
       "<Figure size 576x396 with 1 Axes>"
      ]
     },
     "metadata": {},
     "output_type": "display_data"
    },
    {
     "data": {
      "text/plain": [
       "<AxesSubplot:title={'center':'MultinomialNB Confusion Matrix'}, xlabel='Predicted Class', ylabel='True Class'>"
      ]
     },
     "execution_count": 13,
     "metadata": {},
     "output_type": "execute_result"
    }
   ],
   "source": [
    "from yellowbrick.classifier import ConfusionMatrix\n",
    "cm = ConfusionMatrix(mnb)\n",
    "cm.fit(X_train, y_train)\n",
    "cm.score(X_test, y_test)\n",
    "cm.show()"
   ]
  },
  {
   "cell_type": "code",
   "execution_count": 14,
   "id": "84747f03",
   "metadata": {},
   "outputs": [
    {
     "name": "stdout",
     "output_type": "stream",
     "text": [
      "Requirement already satisfied: yellowbrick in /Users/cynding/opt/anaconda3/lib/python3.8/site-packages (1.4)\n",
      "Requirement already satisfied: numpy>=1.16.0 in /Users/cynding/opt/anaconda3/lib/python3.8/site-packages (from yellowbrick) (1.21.2)\n",
      "Requirement already satisfied: scikit-learn>=1.0.0 in /Users/cynding/opt/anaconda3/lib/python3.8/site-packages (from yellowbrick) (1.0.1)\n",
      "Requirement already satisfied: scipy>=1.0.0 in /Users/cynding/opt/anaconda3/lib/python3.8/site-packages (from yellowbrick) (1.7.1)\n",
      "Requirement already satisfied: matplotlib!=3.0.0,>=2.0.2 in /Users/cynding/opt/anaconda3/lib/python3.8/site-packages (from yellowbrick) (3.4.3)\n",
      "Requirement already satisfied: cycler>=0.10.0 in /Users/cynding/opt/anaconda3/lib/python3.8/site-packages (from yellowbrick) (0.10.0)\n",
      "Requirement already satisfied: six in /Users/cynding/opt/anaconda3/lib/python3.8/site-packages (from cycler>=0.10.0->yellowbrick) (1.16.0)\n",
      "Requirement already satisfied: pyparsing>=2.2.1 in /Users/cynding/opt/anaconda3/lib/python3.8/site-packages (from matplotlib!=3.0.0,>=2.0.2->yellowbrick) (3.0.4)\n",
      "Requirement already satisfied: kiwisolver>=1.0.1 in /Users/cynding/opt/anaconda3/lib/python3.8/site-packages (from matplotlib!=3.0.0,>=2.0.2->yellowbrick) (1.3.1)\n",
      "Requirement already satisfied: python-dateutil>=2.7 in /Users/cynding/opt/anaconda3/lib/python3.8/site-packages (from matplotlib!=3.0.0,>=2.0.2->yellowbrick) (2.8.2)\n",
      "Requirement already satisfied: pillow>=6.2.0 in /Users/cynding/opt/anaconda3/lib/python3.8/site-packages (from matplotlib!=3.0.0,>=2.0.2->yellowbrick) (8.4.0)\n",
      "Requirement already satisfied: threadpoolctl>=2.0.0 in /Users/cynding/opt/anaconda3/lib/python3.8/site-packages (from scikit-learn>=1.0.0->yellowbrick) (2.2.0)\n",
      "Requirement already satisfied: joblib>=0.11 in /Users/cynding/opt/anaconda3/lib/python3.8/site-packages (from scikit-learn>=1.0.0->yellowbrick) (1.1.0)\n",
      "\u001b[33mWARNING: You are using pip version 21.3.1; however, version 22.0.3 is available.\n",
      "You should consider upgrading via the '/Users/cynding/opt/anaconda3/bin/python -m pip install --upgrade pip' command.\u001b[0m\n",
      "Note: you may need to restart the kernel to use updated packages.\n"
     ]
    }
   ],
   "source": [
    "pip install yellowbrick"
   ]
  },
  {
   "cell_type": "markdown",
   "id": "6470e845",
   "metadata": {},
   "source": [
    "#### 3. KNN Classifier"
   ]
  },
  {
   "cell_type": "code",
   "execution_count": 15,
   "id": "d2c119bf",
   "metadata": {},
   "outputs": [
    {
     "name": "stdout",
     "output_type": "stream",
     "text": [
      "Number of neighbors 10\n",
      "Test score: 0.35062893081761004\n",
      "Number of neighbors 25\n",
      "Test score: 0.3742138364779874\n",
      "Number of neighbors 50\n",
      "Test score: 0.6572327044025157\n",
      "Number of neighbors 100\n",
      "Test score: 0.6226415094339622\n",
      "Number of neighbors 200\n",
      "Test score: 0.6179245283018868\n"
     ]
    }
   ],
   "source": [
    "# train a knn classifier\n",
    "\n",
    "# find the number of neighbors with the best performance\n",
    "n_neighbors_n = [10,25,50,100,200]\n",
    "for i in n_neighbors_n:\n",
    "    knn = KNeighborsClassifier(n_neighbors=i)\n",
    "    knn.fit(X_train, y_train)\n",
    "    print('Number of neighbors',i)\n",
    "    print('Test score:',knn.score(X_test,y_test))"
   ]
  },
  {
   "cell_type": "markdown",
   "id": "d3e8dd5c",
   "metadata": {},
   "source": [
    "The number of neighbors with the best performance is 100."
   ]
  },
  {
   "cell_type": "code",
   "execution_count": 16,
   "id": "021845e5",
   "metadata": {},
   "outputs": [],
   "source": [
    "knn = KNeighborsClassifier(n_neighbors=100)\n",
    "knn.fit(X_train, y_train)\n",
    "\n",
    "knn_train_score = knn.score(X_train,y_train)\n",
    "knn_test_score = knn.score(X_test,y_test)"
   ]
  },
  {
   "cell_type": "code",
   "execution_count": 17,
   "id": "86fefc47",
   "metadata": {},
   "outputs": [
    {
     "name": "stdout",
     "output_type": "stream",
     "text": [
      "+---------------+-------------+------------+\n",
      "|     Model     | Train Score | Test Score |\n",
      "+---------------+-------------+------------+\n",
      "| Random Forest |    85.73%   |   65.25%   |\n",
      "|  Naive-Bayes  |    69.25%   |   66.04%   |\n",
      "|      KNN      |    64.77%   |   62.26%   |\n",
      "+---------------+-------------+------------+\n"
     ]
    }
   ],
   "source": [
    "from prettytable import PrettyTable\n",
    "x=PrettyTable()\n",
    "x.field_names=['Model','Train Score','Test Score']\n",
    "x.add_row(['Random Forest',\"{:.2%}\".format(rf_train_score),\"{:.2%}\".format(rf_test_score)])\n",
    "x.add_row(['Naive-Bayes',\"{:.2%}\".format(mnb_train_score),\"{:.2%}\".format(mnb_test_score)])\n",
    "x.add_row(['KNN',\"{:.2%}\".format(knn_train_score),\"{:.2%}\".format(knn_test_score)])\n",
    "print(x)"
   ]
  },
  {
   "cell_type": "markdown",
   "id": "deed35da",
   "metadata": {},
   "source": [
    "Among these three models, I chose Naive-Bayes as it gets the highest test accuracy with minor overfitting problem."
   ]
  },
  {
   "cell_type": "code",
   "execution_count": 18,
   "id": "f2d5cdcf",
   "metadata": {},
   "outputs": [
    {
     "name": "stdout",
     "output_type": "stream",
     "text": [
      "[[  0   2  12   2  27]\n",
      " [  5   4  11   2  13]\n",
      " [  3   3  27   0  16]\n",
      " [  2   0   7   7 100]\n",
      " [  1   3   4   8 377]]\n"
     ]
    }
   ],
   "source": [
    "# Estimate the confusion matrix\n",
    "from sklearn.metrics import confusion_matrix\n",
    "cmat = confusion_matrix(y_test, y_pred)\n",
    "print(cmat)\n",
    "\n",
    "from yellowbrick.classifier import ConfusionMatrix"
   ]
  }
 ],
 "metadata": {
  "kernelspec": {
   "display_name": "Python 3 (ipykernel)",
   "language": "python",
   "name": "python3"
  },
  "language_info": {
   "codemirror_mode": {
    "name": "ipython",
    "version": 3
   },
   "file_extension": ".py",
   "mimetype": "text/x-python",
   "name": "python",
   "nbconvert_exporter": "python",
   "pygments_lexer": "ipython3",
   "version": "3.8.8"
  }
 },
 "nbformat": 4,
 "nbformat_minor": 5
}
