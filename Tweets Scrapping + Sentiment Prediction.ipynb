{
 "cells": [
  {
   "cell_type": "markdown",
   "id": "3f6b25e4",
   "metadata": {},
   "source": [
    "# Tweets Scrapping\n",
    "### Steps\n",
    "1. Set up tweepy authentication\n",
    "2. Search Tweets\n",
    "3. Append tweets info to a pandas dataframe"
   ]
  },
  {
   "cell_type": "markdown",
   "id": "9972813a",
   "metadata": {},
   "source": [
    "### Set up tweepy authentication"
   ]
  },
  {
   "cell_type": "code",
   "execution_count": 1,
   "id": "bc26e8ec",
   "metadata": {},
   "outputs": [],
   "source": [
    "import tweepy\n",
    "from tweepy import OAuthHandler\n",
    "from tweepy import API\n",
    "import pandas as pd\n",
    "\n",
    "# Consumer key authentication\n",
    "\n",
    "api_key = 'zVCkUaVBASfQEqsDihlOXPk37'\n",
    "api_key_secret = 'xEkxJOwfM5MvPINloFL3hDdVvyK0qRXAtFHcW4sgW4Wfet3iiR'\n",
    "auth = OAuthHandler(api_key, api_key_secret)\n",
    "\n",
    "access_token = '1456751370787115010-4cT91Wo3dfjFnoZmvjsF6ynBtabU2p'\n",
    "access_token_secret = 'JRIPj8i5SynqHL1ROK8qujuzidNZQrMVJKQV13Pkp2hDJ'\n",
    "\n",
    "# Access key authentication\n",
    "\n",
    "auth.set_access_token(access_token, access_token_secret)\n",
    "\n",
    "# Set up the API with the authentication handler\n",
    "api = API(auth)"
   ]
  },
  {
   "cell_type": "markdown",
   "id": "57c77fb6",
   "metadata": {},
   "source": [
    "### Search Tweets"
   ]
  },
  {
   "cell_type": "code",
   "execution_count": 2,
   "id": "a0469c5c",
   "metadata": {},
   "outputs": [],
   "source": [
    "keywords = ['marriott']\n",
    "limit=300\n",
    "tweets = tweepy.Cursor(api.search,\n",
    "                       q=keywords,\n",
    "                       count=100,\n",
    "                       tweet_mode='extended',\n",
    "                       lang='en').items(limit)"
   ]
  },
  {
   "cell_type": "markdown",
   "id": "74d9ad3a",
   "metadata": {},
   "source": [
    "### Append tweets info to a pandas dataframe"
   ]
  },
  {
   "cell_type": "code",
   "execution_count": 3,
   "id": "b5652423",
   "metadata": {},
   "outputs": [
    {
     "data": {
      "text/plain": [
       "(174, 3)"
      ]
     },
     "execution_count": 3,
     "metadata": {},
     "output_type": "execute_result"
    }
   ],
   "source": [
    "columns = ['User','Time','Text']\n",
    "data = []\n",
    "for tweet in tweets:\n",
    "    if not tweet.retweeted and 'RT @' not in tweet.full_text:\n",
    "        data.append([tweet.user.screen_name,tweet.created_at,tweet.full_text])\n",
    "marriott_tweets = pd.DataFrame(data,columns=columns)\n",
    "marriott_tweets.shape"
   ]
  },
  {
   "cell_type": "markdown",
   "id": "6c347fc1",
   "metadata": {},
   "source": [
    "We got 157 tweets containing the keyword 'marriott'."
   ]
  },
  {
   "cell_type": "code",
   "execution_count": 4,
   "id": "0e7c06fa",
   "metadata": {},
   "outputs": [
    {
     "data": {
      "text/html": [
       "<div>\n",
       "<style scoped>\n",
       "    .dataframe tbody tr th:only-of-type {\n",
       "        vertical-align: middle;\n",
       "    }\n",
       "\n",
       "    .dataframe tbody tr th {\n",
       "        vertical-align: top;\n",
       "    }\n",
       "\n",
       "    .dataframe thead th {\n",
       "        text-align: right;\n",
       "    }\n",
       "</style>\n",
       "<table border=\"1\" class=\"dataframe\">\n",
       "  <thead>\n",
       "    <tr style=\"text-align: right;\">\n",
       "      <th></th>\n",
       "      <th>User</th>\n",
       "      <th>Time</th>\n",
       "      <th>Text</th>\n",
       "      <th>Hotel</th>\n",
       "    </tr>\n",
       "  </thead>\n",
       "  <tbody>\n",
       "    <tr>\n",
       "      <th>0</th>\n",
       "      <td>AmberSCosta</td>\n",
       "      <td>2022-02-28 01:30:24</td>\n",
       "      <td>Just posted a photo @ New York LaGuardia Airpo...</td>\n",
       "      <td>marriott</td>\n",
       "    </tr>\n",
       "    <tr>\n",
       "      <th>1</th>\n",
       "      <td>Jmart12323</td>\n",
       "      <td>2022-02-28 01:29:28</td>\n",
       "      <td>Thanks Marriott #MembersGetIt #RewardsPoints #...</td>\n",
       "      <td>marriott</td>\n",
       "    </tr>\n",
       "    <tr>\n",
       "      <th>2</th>\n",
       "      <td>MCYTanything</td>\n",
       "      <td>2022-02-28 01:27:58</td>\n",
       "      <td>James Marriott was not the impostor. https://t...</td>\n",
       "      <td>marriott</td>\n",
       "    </tr>\n",
       "    <tr>\n",
       "      <th>3</th>\n",
       "      <td>rebecca_suis</td>\n",
       "      <td>2022-02-28 01:26:34</td>\n",
       "      <td>@nancylevine @CarlosGSmith @Marriott @JerickFL...</td>\n",
       "      <td>marriott</td>\n",
       "    </tr>\n",
       "    <tr>\n",
       "      <th>4</th>\n",
       "      <td>NashvilleResist</td>\n",
       "      <td>2022-02-28 01:23:39</td>\n",
       "      <td>@nancylevine @MarriottIntl @Marriott also host...</td>\n",
       "      <td>marriott</td>\n",
       "    </tr>\n",
       "  </tbody>\n",
       "</table>\n",
       "</div>"
      ],
      "text/plain": [
       "              User                Time  \\\n",
       "0      AmberSCosta 2022-02-28 01:30:24   \n",
       "1       Jmart12323 2022-02-28 01:29:28   \n",
       "2     MCYTanything 2022-02-28 01:27:58   \n",
       "3     rebecca_suis 2022-02-28 01:26:34   \n",
       "4  NashvilleResist 2022-02-28 01:23:39   \n",
       "\n",
       "                                                Text     Hotel  \n",
       "0  Just posted a photo @ New York LaGuardia Airpo...  marriott  \n",
       "1  Thanks Marriott #MembersGetIt #RewardsPoints #...  marriott  \n",
       "2  James Marriott was not the impostor. https://t...  marriott  \n",
       "3  @nancylevine @CarlosGSmith @Marriott @JerickFL...  marriott  \n",
       "4  @nancylevine @MarriottIntl @Marriott also host...  marriott  "
      ]
     },
     "execution_count": 4,
     "metadata": {},
     "output_type": "execute_result"
    }
   ],
   "source": [
    "marriott_tweets['Hotel']='marriott'\n",
    "marriott_tweets.head()"
   ]
  },
  {
   "cell_type": "markdown",
   "id": "8cb15171",
   "metadata": {},
   "source": [
    "### Same procedures for 'wyndham' and 'hilton'"
   ]
  },
  {
   "cell_type": "code",
   "execution_count": 5,
   "id": "ac324c31",
   "metadata": {},
   "outputs": [
    {
     "data": {
      "text/plain": [
       "(207, 3)"
      ]
     },
     "execution_count": 5,
     "metadata": {},
     "output_type": "execute_result"
    }
   ],
   "source": [
    "keywords = ['wyndham']\n",
    "limit=300\n",
    "tweets = tweepy.Cursor(api.search,\n",
    "                       q=keywords,\n",
    "                       count=100,\n",
    "                       tweet_mode='extended',\n",
    "                       lang='en').items(limit)\n",
    "columns = ['User','Time','Text']\n",
    "data = []\n",
    "for tweet in tweets:\n",
    "    if not tweet.retweeted and 'RT @' not in tweet.full_text:\n",
    "        data.append([tweet.user.screen_name,tweet.created_at,tweet.full_text])\n",
    "wyndham_tweets = pd.DataFrame(data,columns=columns)\n",
    "wyndham_tweets.shape"
   ]
  },
  {
   "cell_type": "markdown",
   "id": "623aa78d",
   "metadata": {},
   "source": [
    "We got 206 tweets containing the keyword 'wyndham'."
   ]
  },
  {
   "cell_type": "code",
   "execution_count": 6,
   "id": "af833ab2",
   "metadata": {},
   "outputs": [
    {
     "data": {
      "text/html": [
       "<div>\n",
       "<style scoped>\n",
       "    .dataframe tbody tr th:only-of-type {\n",
       "        vertical-align: middle;\n",
       "    }\n",
       "\n",
       "    .dataframe tbody tr th {\n",
       "        vertical-align: top;\n",
       "    }\n",
       "\n",
       "    .dataframe thead th {\n",
       "        text-align: right;\n",
       "    }\n",
       "</style>\n",
       "<table border=\"1\" class=\"dataframe\">\n",
       "  <thead>\n",
       "    <tr style=\"text-align: right;\">\n",
       "      <th></th>\n",
       "      <th>User</th>\n",
       "      <th>Time</th>\n",
       "      <th>Text</th>\n",
       "      <th>Hotel</th>\n",
       "    </tr>\n",
       "  </thead>\n",
       "  <tbody>\n",
       "    <tr>\n",
       "      <th>0</th>\n",
       "      <td>MyClinicGroup</td>\n",
       "      <td>2022-02-28 01:20:28</td>\n",
       "      <td>WYNDHAM RESPIRATORY CLINIC IS NOW OPEN!\\n\\nWe ...</td>\n",
       "      <td>wyndham</td>\n",
       "    </tr>\n",
       "    <tr>\n",
       "      <th>1</th>\n",
       "      <td>summerbrennnan</td>\n",
       "      <td>2022-02-28 00:43:19</td>\n",
       "      <td>@mattRroth @stillgray BBC said this; they're t...</td>\n",
       "      <td>wyndham</td>\n",
       "    </tr>\n",
       "    <tr>\n",
       "      <th>2</th>\n",
       "      <td>SusanCast</td>\n",
       "      <td>2022-02-28 00:36:14</td>\n",
       "      <td>Friends ❤ en Nikki Beach Panama At Wyndham Gra...</td>\n",
       "      <td>wyndham</td>\n",
       "    </tr>\n",
       "    <tr>\n",
       "      <th>3</th>\n",
       "      <td>CaHomeoffice</td>\n",
       "      <td>2022-02-27 23:13:04</td>\n",
       "      <td>AWESOME - Austria is very proud. @SeppStraka i...</td>\n",
       "      <td>wyndham</td>\n",
       "    </tr>\n",
       "    <tr>\n",
       "      <th>4</th>\n",
       "      <td>T_Sardich</td>\n",
       "      <td>2022-02-27 23:03:49</td>\n",
       "      <td>@tr0jan04 @CaesarsRewards I’ve been requesting...</td>\n",
       "      <td>wyndham</td>\n",
       "    </tr>\n",
       "  </tbody>\n",
       "</table>\n",
       "</div>"
      ],
      "text/plain": [
       "             User                Time  \\\n",
       "0   MyClinicGroup 2022-02-28 01:20:28   \n",
       "1  summerbrennnan 2022-02-28 00:43:19   \n",
       "2       SusanCast 2022-02-28 00:36:14   \n",
       "3    CaHomeoffice 2022-02-27 23:13:04   \n",
       "4       T_Sardich 2022-02-27 23:03:49   \n",
       "\n",
       "                                                Text    Hotel  \n",
       "0  WYNDHAM RESPIRATORY CLINIC IS NOW OPEN!\\n\\nWe ...  wyndham  \n",
       "1  @mattRroth @stillgray BBC said this; they're t...  wyndham  \n",
       "2  Friends ❤ en Nikki Beach Panama At Wyndham Gra...  wyndham  \n",
       "3  AWESOME - Austria is very proud. @SeppStraka i...  wyndham  \n",
       "4  @tr0jan04 @CaesarsRewards I’ve been requesting...  wyndham  "
      ]
     },
     "execution_count": 6,
     "metadata": {},
     "output_type": "execute_result"
    }
   ],
   "source": [
    "wyndham_tweets['Hotel']='wyndham'\n",
    "wyndham_tweets.head()"
   ]
  },
  {
   "cell_type": "code",
   "execution_count": 7,
   "id": "fc691c6f",
   "metadata": {},
   "outputs": [
    {
     "data": {
      "text/plain": [
       "(151, 3)"
      ]
     },
     "execution_count": 7,
     "metadata": {},
     "output_type": "execute_result"
    }
   ],
   "source": [
    "keywords = ['hilton']\n",
    "limit=300\n",
    "tweets = tweepy.Cursor(api.search,\n",
    "                       q=keywords,\n",
    "                       count=100,\n",
    "                       tweet_mode='extended',\n",
    "                       lang='en').items(limit)\n",
    "columns = ['User','Time','Text']\n",
    "data = []\n",
    "for tweet in tweets:\n",
    "    if not tweet.retweeted and 'RT @' not in tweet.full_text:\n",
    "        data.append([tweet.user.screen_name,tweet.created_at,tweet.full_text])\n",
    "hilton_tweets = pd.DataFrame(data,columns=columns)\n",
    "hilton_tweets.shape"
   ]
  },
  {
   "cell_type": "markdown",
   "id": "9eb59431",
   "metadata": {},
   "source": [
    "We got 156 tweets containing the keyword 'hilton'."
   ]
  },
  {
   "cell_type": "code",
   "execution_count": 8,
   "id": "cf9ac429",
   "metadata": {},
   "outputs": [
    {
     "data": {
      "text/html": [
       "<div>\n",
       "<style scoped>\n",
       "    .dataframe tbody tr th:only-of-type {\n",
       "        vertical-align: middle;\n",
       "    }\n",
       "\n",
       "    .dataframe tbody tr th {\n",
       "        vertical-align: top;\n",
       "    }\n",
       "\n",
       "    .dataframe thead th {\n",
       "        text-align: right;\n",
       "    }\n",
       "</style>\n",
       "<table border=\"1\" class=\"dataframe\">\n",
       "  <thead>\n",
       "    <tr style=\"text-align: right;\">\n",
       "      <th></th>\n",
       "      <th>User</th>\n",
       "      <th>Time</th>\n",
       "      <th>Text</th>\n",
       "      <th>Hotel</th>\n",
       "    </tr>\n",
       "  </thead>\n",
       "  <tbody>\n",
       "    <tr>\n",
       "      <th>0</th>\n",
       "      <td>everylot_balt</td>\n",
       "      <td>2022-02-28 01:30:06</td>\n",
       "      <td>37 S HILTON ST https://t.co/TewriRdhrS</td>\n",
       "      <td>hilton</td>\n",
       "    </tr>\n",
       "    <tr>\n",
       "      <th>1</th>\n",
       "      <td>SpiviTech</td>\n",
       "      <td>2022-02-28 01:25:14</td>\n",
       "      <td>Arabella R. has joined the Spivi network from ...</td>\n",
       "      <td>hilton</td>\n",
       "    </tr>\n",
       "    <tr>\n",
       "      <th>2</th>\n",
       "      <td>SpiviTech</td>\n",
       "      <td>2022-02-28 01:25:07</td>\n",
       "      <td>R.B. has joined the Spivi network from Velocit...</td>\n",
       "      <td>hilton</td>\n",
       "    </tr>\n",
       "    <tr>\n",
       "      <th>3</th>\n",
       "      <td>H0USEWlVES</td>\n",
       "      <td>2022-02-28 01:23:31</td>\n",
       "      <td>Dina reassesses her connection with Jules aka....</td>\n",
       "      <td>hilton</td>\n",
       "    </tr>\n",
       "    <tr>\n",
       "      <th>4</th>\n",
       "      <td>malaysiandaily</td>\n",
       "      <td>2022-02-28 01:22:15</td>\n",
       "      <td>Check out B.S.B 1Kg/1000g Sleeping hilton Pill...</td>\n",
       "      <td>hilton</td>\n",
       "    </tr>\n",
       "  </tbody>\n",
       "</table>\n",
       "</div>"
      ],
      "text/plain": [
       "             User                Time  \\\n",
       "0   everylot_balt 2022-02-28 01:30:06   \n",
       "1       SpiviTech 2022-02-28 01:25:14   \n",
       "2       SpiviTech 2022-02-28 01:25:07   \n",
       "3      H0USEWlVES 2022-02-28 01:23:31   \n",
       "4  malaysiandaily 2022-02-28 01:22:15   \n",
       "\n",
       "                                                Text   Hotel  \n",
       "0             37 S HILTON ST https://t.co/TewriRdhrS  hilton  \n",
       "1  Arabella R. has joined the Spivi network from ...  hilton  \n",
       "2  R.B. has joined the Spivi network from Velocit...  hilton  \n",
       "3  Dina reassesses her connection with Jules aka....  hilton  \n",
       "4  Check out B.S.B 1Kg/1000g Sleeping hilton Pill...  hilton  "
      ]
     },
     "execution_count": 8,
     "metadata": {},
     "output_type": "execute_result"
    }
   ],
   "source": [
    "hilton_tweets['Hotel']='hilton'\n",
    "hilton_tweets.head()"
   ]
  },
  {
   "cell_type": "code",
   "execution_count": 9,
   "id": "3201a78a",
   "metadata": {},
   "outputs": [],
   "source": [
    "hotel_tweets = pd.concat([marriott_tweets, wyndham_tweets, hilton_tweets], ignore_index=True)"
   ]
  },
  {
   "cell_type": "markdown",
   "id": "4f5d53d2",
   "metadata": {},
   "source": [
    "# Sentiment Prediction"
   ]
  },
  {
   "cell_type": "markdown",
   "id": "c162aace",
   "metadata": {},
   "source": [
    "### Steps\n",
    "1. Textual Data Cleaning\n",
    "2. Feature Engineering (Tfidf Vectorization)\n",
    "3. Fit the mnb model on hotel reviews\n",
    "4. Predict the sentiment of tweets"
   ]
  },
  {
   "cell_type": "code",
   "execution_count": 10,
   "id": "2100dac6",
   "metadata": {},
   "outputs": [],
   "source": [
    "# Load hotel reviews\n",
    "review = pd.read_csv('/Users/cynding/Desktop/Brandeis 2021 Fall/BUS 256A - Marketing Analytics/final project/marriott_hotel_reviews.csv')\n",
    "review['Review']=review['Review'].astype(str)"
   ]
  },
  {
   "cell_type": "markdown",
   "id": "6bcc9b58",
   "metadata": {},
   "source": [
    "#### 1. Textual Data Cleaning"
   ]
  },
  {
   "cell_type": "code",
   "execution_count": 14,
   "id": "51ad76a1",
   "metadata": {},
   "outputs": [],
   "source": [
    "# return the wordnet object value corresponding to the POS tag\n",
    "from nltk.corpus import wordnet\n",
    "import string\n",
    "from nltk import pos_tag\n",
    "from nltk.corpus import stopwords\n",
    "from nltk.tokenize import WhitespaceTokenizer\n",
    "from nltk.stem import WordNetLemmatizer\n",
    "\n",
    "'''\n",
    "Part-Of-Speech (POS) tagging: assign a tag to every word to define \n",
    "if it corresponds to a noun, a verb etc. using the WordNet lexical database\n",
    "'''\n",
    "\n",
    "def get_wordnet_pos(pos_tag):\n",
    "    if pos_tag.startswith('J'):\n",
    "        return wordnet.ADJ\n",
    "    elif pos_tag.startswith('V'):\n",
    "        return wordnet.VERB\n",
    "    elif pos_tag.startswith('N'):\n",
    "        return wordnet.NOUN\n",
    "    elif pos_tag.startswith('R'):\n",
    "        return wordnet.ADV\n",
    "    else:\n",
    "        return wordnet.NOUN\n",
    "    \n",
    "def clean_text(text):\n",
    "    # lower text\n",
    "    text = text.lower()\n",
    "    #\n",
    "    text = text.replace(\"n't\",\" not\")\n",
    "    text = text.replace(\"i'm\",\"i am\")\n",
    "    text = text.replace(\"i'd\",\"i would\")\n",
    "    text = text.replace(\"i've\",\"i have\")\n",
    "    text = text.replace(\"could've\",\"could have\")\n",
    "    text = text.replace(\"we're\",\"we are\")\n",
    "    text = text.replace(\"'ll\",\" will\")\n",
    "    text = text.replace(\"that's\",\"that is\")\n",
    "    \n",
    "    # tokenize text and remove puncutation\n",
    "    text = [word.strip(string.punctuation) for word in text.split(\" \")]\n",
    "    # remove words that contain numbers\n",
    "    text = [word for word in text if not any(c.isdigit() for c in word)]\n",
    "    # remove stop words\n",
    "    stop = stopwords.words('english')\n",
    "    text = [x for x in text if x not in stop]\n",
    "    # remove empty tokens\n",
    "    text = [t for t in text if len(t) > 0]\n",
    "    # pos tag text\n",
    "    pos_tags = pos_tag(text)\n",
    "    # lemmatize text: transform every word into their root form \n",
    "    text = [WordNetLemmatizer().lemmatize(t[0], get_wordnet_pos(t[1])) for t in pos_tags]\n",
    "    # remove words with only one letter\n",
    "    text = [t for t in text if len(t) > 1]\n",
    "    # join all\n",
    "    text = \" \".join(text)\n",
    "    return(text)"
   ]
  },
  {
   "cell_type": "code",
   "execution_count": 15,
   "id": "9af1f9e3",
   "metadata": {},
   "outputs": [],
   "source": [
    "review['Review'] = review['Review'].apply(lambda x: clean_text(x))"
   ]
  },
  {
   "cell_type": "code",
   "execution_count": 16,
   "id": "a3cbf829",
   "metadata": {},
   "outputs": [],
   "source": [
    "hotel_tweets['Text'] = hotel_tweets['Text'].apply(lambda x: clean_text(x))"
   ]
  },
  {
   "cell_type": "markdown",
   "id": "ea036874",
   "metadata": {},
   "source": [
    "#### 2. Feature Engineering - TFIDF Vectorization"
   ]
  },
  {
   "cell_type": "code",
   "execution_count": 17,
   "id": "06749040",
   "metadata": {},
   "outputs": [],
   "source": [
    "from sklearn.feature_extraction.text import TfidfVectorizer\n",
    "# For reviews text\n",
    "tfidf = TfidfVectorizer(min_df = 5)\n",
    "tfidf_result = tfidf.fit_transform(review['Review'].astype('U')).toarray()\n",
    "tfidf_df = pd.DataFrame(tfidf_result,columns=tfidf.get_feature_names_out())\n",
    "tfidf_df.columns = [\"word_\" + str(x) for x in tfidf_df.columns]\n",
    "tfidf_df.index = review.index\n",
    "review = pd.concat([review, tfidf_df], axis=1)"
   ]
  },
  {
   "cell_type": "code",
   "execution_count": 18,
   "id": "61e48265",
   "metadata": {},
   "outputs": [],
   "source": [
    "# For tiwtter text\n",
    "tfidf = TfidfVectorizer()\n",
    "tfidf_result = tfidf.fit_transform(hotel_tweets['Text'].astype('U')).toarray()\n",
    "tfidf_df_tweets = pd.DataFrame(tfidf_result,columns=tfidf.get_feature_names_out())\n",
    "tfidf_df_tweets.columns = [\"word_\" + str(x) for x in tfidf_df_tweets.columns]\n",
    "tfidf_df_tweets.index = hotel_tweets.index\n",
    "hotel_tweets = pd.concat([hotel_tweets, tfidf_df_tweets], axis=1)"
   ]
  },
  {
   "cell_type": "markdown",
   "id": "fd5d315c",
   "metadata": {},
   "source": [
    "#### 3. Fit the mnb model on hotel reviews"
   ]
  },
  {
   "cell_type": "code",
   "execution_count": 19,
   "id": "44e113e2",
   "metadata": {},
   "outputs": [],
   "source": [
    "from sklearn.model_selection import train_test_split\n",
    "\n",
    "# Models\n",
    "from sklearn.naive_bayes import MultinomialNB"
   ]
  },
  {
   "cell_type": "code",
   "execution_count": 20,
   "id": "2bb69582",
   "metadata": {},
   "outputs": [],
   "source": [
    "label = 'Total_Score'\n",
    "features = [c for c in tfidf_df.columns]\n",
    "X_train, X_test, y_train, y_test = train_test_split(review[features], review[label], test_size = 0.20, random_state = 42)"
   ]
  },
  {
   "cell_type": "code",
   "execution_count": 21,
   "id": "205c0989",
   "metadata": {},
   "outputs": [
    {
     "name": "stdout",
     "output_type": "stream",
     "text": [
      "0.6924891860007865 0.660377358490566\n"
     ]
    }
   ],
   "source": [
    "# train a naive bayes classifier\n",
    "mnb = MultinomialNB()\n",
    "mnb.fit(X_train, y_train)\n",
    "\n",
    "mnb_train_score = mnb.score(X_train,y_train)\n",
    "mnb_test_score = mnb.score(X_test,y_test)\n",
    "print(mnb_train_score,mnb_test_score)"
   ]
  },
  {
   "cell_type": "markdown",
   "id": "bc2dcd83",
   "metadata": {},
   "source": [
    "#### 4. Predict the sentiment of tweets"
   ]
  },
  {
   "cell_type": "code",
   "execution_count": 22,
   "id": "937e6f72",
   "metadata": {},
   "outputs": [
    {
     "name": "stderr",
     "output_type": "stream",
     "text": [
      "/var/folders/dl/l3zy8j197jn9h7zpll2v7q9w0000gn/T/ipykernel_41263/1269033137.py:3: PerformanceWarning: DataFrame is highly fragmented.  This is usually the result of calling `frame.insert` many times, which has poor performance.  Consider joining all columns at once using pd.concat(axis=1) instead.  To get a de-fragmented frame, use `newframe = frame.copy()`\n",
      "  tfidf_df_tweets[i] = 0\n"
     ]
    }
   ],
   "source": [
    "for i in features:\n",
    "    if i not in tfidf_df_tweets.columns:\n",
    "        tfidf_df_tweets[i] = 0"
   ]
  },
  {
   "cell_type": "code",
   "execution_count": 23,
   "id": "28a8332a",
   "metadata": {},
   "outputs": [],
   "source": [
    "features = [c for c in tfidf_df.columns]\n",
    "X_twitter = tfidf_df_tweets[features]\n",
    "y_twitter_pred = mnb.predict(X_twitter)\n",
    "\n",
    "hotel_tweets = pd.concat([hotel_tweets, pd.Series(y_twitter_pred)], axis=1)\n",
    "hotel_tweets = hotel_tweets.rename(columns={0: \"Predicted Score\"})"
   ]
  },
  {
   "cell_type": "code",
   "execution_count": 24,
   "id": "77d086ab",
   "metadata": {},
   "outputs": [
    {
     "data": {
      "text/plain": [
       "count    532.000000\n",
       "mean       4.994361\n",
       "std        0.096873\n",
       "min        3.000000\n",
       "25%        5.000000\n",
       "50%        5.000000\n",
       "75%        5.000000\n",
       "max        5.000000\n",
       "Name: Predicted Score, dtype: float64"
      ]
     },
     "execution_count": 24,
     "metadata": {},
     "output_type": "execute_result"
    }
   ],
   "source": [
    "hotel_tweets['Predicted Score'].describe()"
   ]
  },
  {
   "cell_type": "markdown",
   "id": "53db8444",
   "metadata": {},
   "source": [
    "The problem with this sentiment prediction is it would be hard for the ML model to distinguish neutral comment from the positive comment."
   ]
  },
  {
   "cell_type": "markdown",
   "id": "0530f4c5",
   "metadata": {},
   "source": []
  },
  {
   "cell_type": "code",
   "execution_count": null,
   "id": "aba645e8",
   "metadata": {},
   "outputs": [],
   "source": []
  }
 ],
 "metadata": {
  "kernelspec": {
   "display_name": "Python 3 (ipykernel)",
   "language": "python",
   "name": "python3"
  },
  "language_info": {
   "codemirror_mode": {
    "name": "ipython",
    "version": 3
   },
   "file_extension": ".py",
   "mimetype": "text/x-python",
   "name": "python",
   "nbconvert_exporter": "python",
   "pygments_lexer": "ipython3",
   "version": "3.8.8"
  }
 },
 "nbformat": 4,
 "nbformat_minor": 5
}
