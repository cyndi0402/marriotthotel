{
 "cells": [
  {
   "cell_type": "markdown",
   "id": "3f6b25e4",
   "metadata": {},
   "source": [
    "### Steps\n",
    "1. Set up tweepy authentication\n",
    "2. Search Tweets\n",
    "3. Append tweets info to a pandas dataframe"
   ]
  },
  {
   "cell_type": "markdown",
   "id": "9972813a",
   "metadata": {},
   "source": [
    "### Set up tweepy authentication"
   ]
  },
  {
   "cell_type": "code",
   "execution_count": 1,
   "id": "bc26e8ec",
   "metadata": {},
   "outputs": [],
   "source": [
    "import tweepy\n",
    "from tweepy import OAuthHandler\n",
    "from tweepy import API\n",
    "import pandas as pd\n",
    "\n",
    "# Consumer key authentication\n",
    "\n",
    "api_key = 'zVCkUaVBASfQEqsDihlOXPk37'\n",
    "api_key_secret = 'xEkxJOwfM5MvPINloFL3hDdVvyK0qRXAtFHcW4sgW4Wfet3iiR'\n",
    "auth = OAuthHandler(api_key, api_key_secret)\n",
    "\n",
    "access_token = '1456751370787115010-4cT91Wo3dfjFnoZmvjsF6ynBtabU2p'\n",
    "access_token_secret = 'JRIPj8i5SynqHL1ROK8qujuzidNZQrMVJKQV13Pkp2hDJ'\n",
    "\n",
    "# Access key authentication\n",
    "auth.set_access_token(access_token, access_token_secret)\n",
    "\n",
    "# Set up the API with the authentication handler\n",
    "api = API(auth)"
   ]
  },
  {
   "cell_type": "markdown",
   "id": "57c77fb6",
   "metadata": {},
   "source": [
    "### Search Tweets"
   ]
  },
  {
   "cell_type": "code",
   "execution_count": 2,
   "id": "a0469c5c",
   "metadata": {},
   "outputs": [],
   "source": [
    "keywords = ['marriott',' hotel']\n",
    "limit = 1000\n",
    "tweets = tweepy.Cursor(api.search,\n",
    "                       q=keywords,\n",
    "                       count=100,\n",
    "                       tweet_mode='extended',\n",
    "                       since='2021-01-01',\n",
    "                       lang='en').items(limit)"
   ]
  },
  {
   "cell_type": "markdown",
   "id": "74d9ad3a",
   "metadata": {},
   "source": [
    "### Append tweets info to a pandas dataframe"
   ]
  },
  {
   "cell_type": "code",
   "execution_count": 3,
   "id": "b5652423",
   "metadata": {},
   "outputs": [
    {
     "name": "stdout",
     "output_type": "stream",
     "text": [
      "(330, 3)\n"
     ]
    }
   ],
   "source": [
    "columns = ['User','Time','Text']\n",
    "data = []\n",
    "for tweet in tweets:\n",
    "    if not tweet.retweeted and 'RT @' not in tweet.full_text:\n",
    "        data.append([tweet.user.screen_name,tweet.created_at,tweet.full_text])\n",
    "marriott_tweets = pd.DataFrame(data,columns=columns)\n",
    "print(marriott_tweets.shape)"
   ]
  },
  {
   "cell_type": "markdown",
   "id": "6c347fc1",
   "metadata": {},
   "source": [
    "We got 688 tweets containing the keywords of 'marriott' and 'hotel'."
   ]
  },
  {
   "cell_type": "code",
   "execution_count": 4,
   "id": "0e7c06fa",
   "metadata": {},
   "outputs": [
    {
     "data": {
      "text/html": [
       "<div>\n",
       "<style scoped>\n",
       "    .dataframe tbody tr th:only-of-type {\n",
       "        vertical-align: middle;\n",
       "    }\n",
       "\n",
       "    .dataframe tbody tr th {\n",
       "        vertical-align: top;\n",
       "    }\n",
       "\n",
       "    .dataframe thead th {\n",
       "        text-align: right;\n",
       "    }\n",
       "</style>\n",
       "<table border=\"1\" class=\"dataframe\">\n",
       "  <thead>\n",
       "    <tr style=\"text-align: right;\">\n",
       "      <th></th>\n",
       "      <th>User</th>\n",
       "      <th>Time</th>\n",
       "      <th>Text</th>\n",
       "    </tr>\n",
       "  </thead>\n",
       "  <tbody>\n",
       "    <tr>\n",
       "      <th>0</th>\n",
       "      <td>famtasticrocks</td>\n",
       "      <td>2022-02-16 17:30:16</td>\n",
       "      <td>#FamtasticNews #EventProfs #NewHotels\\nA new 1...</td>\n",
       "    </tr>\n",
       "    <tr>\n",
       "      <th>1</th>\n",
       "      <td>rakealito</td>\n",
       "      <td>2022-02-16 17:28:01</td>\n",
       "      <td>@tinaintheburbs @KielyforOregon @AndrewDamitio...</td>\n",
       "    </tr>\n",
       "    <tr>\n",
       "      <th>2</th>\n",
       "      <td>NewRoPatch</td>\n",
       "      <td>2022-02-16 17:24:01</td>\n",
       "      <td>The suspect was \"Bonvoyed\" after the Marriott ...</td>\n",
       "    </tr>\n",
       "    <tr>\n",
       "      <th>3</th>\n",
       "      <td>FreezyRaul</td>\n",
       "      <td>2022-02-16 17:22:29</td>\n",
       "      <td>@BerryNiceCards @RyansCardssLLC I would highly...</td>\n",
       "    </tr>\n",
       "    <tr>\n",
       "      <th>4</th>\n",
       "      <td>AdeyemiSijuwade</td>\n",
       "      <td>2022-02-16 17:13:42</td>\n",
       "      <td>@Irebamiolakanm1 Marriott na one bad Hotel laidat</td>\n",
       "    </tr>\n",
       "  </tbody>\n",
       "</table>\n",
       "</div>"
      ],
      "text/plain": [
       "              User                Time  \\\n",
       "0   famtasticrocks 2022-02-16 17:30:16   \n",
       "1        rakealito 2022-02-16 17:28:01   \n",
       "2       NewRoPatch 2022-02-16 17:24:01   \n",
       "3       FreezyRaul 2022-02-16 17:22:29   \n",
       "4  AdeyemiSijuwade 2022-02-16 17:13:42   \n",
       "\n",
       "                                                Text  \n",
       "0  #FamtasticNews #EventProfs #NewHotels\\nA new 1...  \n",
       "1  @tinaintheburbs @KielyforOregon @AndrewDamitio...  \n",
       "2  The suspect was \"Bonvoyed\" after the Marriott ...  \n",
       "3  @BerryNiceCards @RyansCardssLLC I would highly...  \n",
       "4  @Irebamiolakanm1 Marriott na one bad Hotel laidat  "
      ]
     },
     "execution_count": 4,
     "metadata": {},
     "output_type": "execute_result"
    }
   ],
   "source": [
    "marriott_tweets.head()"
   ]
  },
  {
   "cell_type": "code",
   "execution_count": 5,
   "id": "ea4b7821",
   "metadata": {},
   "outputs": [],
   "source": [
    "marriott_tweets.to_csv('/Users/cynding/Desktop/Brandeis 2021 Fall/BUS 256A - Marketing Analytics/final project/marriott_tweets.csv')"
   ]
  },
  {
   "cell_type": "code",
   "execution_count": null,
   "id": "ac324c31",
   "metadata": {},
   "outputs": [],
   "source": []
  }
 ],
 "metadata": {
  "kernelspec": {
   "display_name": "Python 3 (ipykernel)",
   "language": "python",
   "name": "python3"
  },
  "language_info": {
   "codemirror_mode": {
    "name": "ipython",
    "version": 3
   },
   "file_extension": ".py",
   "mimetype": "text/x-python",
   "name": "python",
   "nbconvert_exporter": "python",
   "pygments_lexer": "ipython3",
   "version": "3.8.8"
  }
 },
 "nbformat": 4,
 "nbformat_minor": 5
}
