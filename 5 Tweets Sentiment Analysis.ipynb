{
 "cells": [
  {
   "cell_type": "markdown",
   "id": "4f5d53d2",
   "metadata": {},
   "source": [
    "# Tweets Sentiment Analysis"
   ]
  },
  {
   "cell_type": "markdown",
   "id": "c162aace",
   "metadata": {},
   "source": [
    "### Steps\n",
    "1. Textual Data Cleaning\n",
    "2. Feature Engineering (Tfidf Vectorization)\n",
    "3. Load the model from disk\n",
    "4. Predict the sentiment of tweets"
   ]
  },
  {
   "cell_type": "code",
   "execution_count": 1,
   "id": "084602a1",
   "metadata": {},
   "outputs": [],
   "source": [
    "import pandas as pd"
   ]
  },
  {
   "cell_type": "code",
   "execution_count": 2,
   "id": "2100dac6",
   "metadata": {},
   "outputs": [],
   "source": [
    "marriott_tweets = pd.read_csv('/Users/cynding/Desktop/Brandeis 2021 Fall/BUS 256A - Marketing Analytics/final project/marriott_tweets.csv')\n",
    "review = pd.read_csv('/Users/cynding/Desktop/Brandeis 2021 Fall/BUS 256A - Marketing Analytics/final project/marriott_hotel_reviews.csv')\n",
    "review['Review']=review['Review'].astype(str)"
   ]
  },
  {
   "cell_type": "markdown",
   "id": "6bcc9b58",
   "metadata": {},
   "source": [
    "#### 1. Textual Data Cleaning"
   ]
  },
  {
   "cell_type": "code",
   "execution_count": 3,
   "id": "51ad76a1",
   "metadata": {},
   "outputs": [],
   "source": [
    "# return the wordnet object value corresponding to the POS tag\n",
    "from nltk.corpus import wordnet\n",
    "import string\n",
    "from nltk import pos_tag\n",
    "from nltk.corpus import stopwords\n",
    "from nltk.tokenize import WhitespaceTokenizer\n",
    "from nltk.stem import WordNetLemmatizer\n",
    "\n",
    "'''\n",
    "Part-Of-Speech (POS) tagging: assign a tag to every word to define \n",
    "if it corresponds to a noun, a verb etc. using the WordNet lexical database\n",
    "'''\n",
    "\n",
    "def get_wordnet_pos(pos_tag):\n",
    "    if pos_tag.startswith('J'):\n",
    "        return wordnet.ADJ\n",
    "    elif pos_tag.startswith('V'):\n",
    "        return wordnet.VERB\n",
    "    elif pos_tag.startswith('N'):\n",
    "        return wordnet.NOUN\n",
    "    elif pos_tag.startswith('R'):\n",
    "        return wordnet.ADV\n",
    "    else:\n",
    "        return wordnet.NOUN\n",
    "    \n",
    "def clean_text(text):\n",
    "    # lower text\n",
    "    text = text.lower()\n",
    "    #\n",
    "    text = text.replace(\"n't\",\" not\")\n",
    "    text = text.replace(\"i'm\",\"i am\")\n",
    "    text = text.replace(\"i'd\",\"i would\")\n",
    "    text = text.replace(\"i've\",\"i have\")\n",
    "    text = text.replace(\"we're\",\"we are\")\n",
    "    text = text.replace(\"'ll\",\" will\")\n",
    "    text = text.replace(\"that's\",\"that is\")\n",
    "    \n",
    "    # tokenize text and remove puncutation\n",
    "    text = [word.strip(string.punctuation) for word in text.split(\" \")]\n",
    "    # remove words that contain numbers\n",
    "    text = [word for word in text if not any(c.isdigit() for c in word)]\n",
    "    # remove stop words\n",
    "    stop = stopwords.words('english')\n",
    "    text = [x for x in text if x not in stop]\n",
    "    # remove empty tokens\n",
    "    text = [t for t in text if len(t) > 0]\n",
    "    # pos tag text\n",
    "    pos_tags = pos_tag(text)\n",
    "    # lemmatize text: transform every word into their root form \n",
    "    text = [WordNetLemmatizer().lemmatize(t[0], get_wordnet_pos(t[1])) for t in pos_tags]\n",
    "    # remove words with only one letter\n",
    "    text = [t for t in text if len(t) > 1]\n",
    "    # join all\n",
    "    text = \" \".join(text)\n",
    "    return(text)"
   ]
  },
  {
   "cell_type": "code",
   "execution_count": 4,
   "id": "9af1f9e3",
   "metadata": {},
   "outputs": [],
   "source": [
    "review['Review'] = review['Review'].apply(lambda x: clean_text(x))\n",
    "marriott_tweets['Text'] = marriott_tweets['Text'].apply(lambda x: clean_text(x))"
   ]
  },
  {
   "cell_type": "markdown",
   "id": "ea036874",
   "metadata": {},
   "source": [
    "#### 2. Feature Engineering - TFIDF Vectorization"
   ]
  },
  {
   "cell_type": "code",
   "execution_count": 5,
   "id": "06749040",
   "metadata": {},
   "outputs": [],
   "source": [
    "from sklearn.feature_extraction.text import TfidfVectorizer\n",
    "\n",
    "tfidf = TfidfVectorizer(min_df = 5)\n",
    "\n",
    "tfidf_result = tfidf.fit_transform(review['Review'].astype('U')).toarray()\n",
    "tfidf_df = pd.DataFrame(tfidf_result,columns=tfidf.get_feature_names_out())\n",
    "tfidf_df.columns = [\"word_\" + str(x) for x in tfidf_df.columns]\n",
    "\n",
    "tfidf_df.index = review.index\n",
    "review = pd.concat([review,tfidf_df],axis=1)"
   ]
  },
  {
   "cell_type": "code",
   "execution_count": 6,
   "id": "61e48265",
   "metadata": {},
   "outputs": [],
   "source": [
    "# For tiwtter text\n",
    "\n",
    "tfidf_result = tfidf.transform(marriott_tweets['Text'].astype('U')).toarray()\n",
    "tfidf_df_tweets = pd.DataFrame(tfidf_result,columns=tfidf.get_feature_names_out())\n",
    "tfidf_df_tweets.columns = [\"word_\" + str(x) for x in tfidf_df_tweets.columns]\n",
    "\n",
    "tfidf_df_tweets.index = marriott_tweets.index\n",
    "marriott_tweets = pd.concat([marriott_tweets,tfidf_df_tweets],axis=1)"
   ]
  },
  {
   "cell_type": "markdown",
   "id": "fd5d315c",
   "metadata": {},
   "source": [
    "#### 3. Load the model from disk"
   ]
  },
  {
   "cell_type": "code",
   "execution_count": 7,
   "id": "4183dd35",
   "metadata": {},
   "outputs": [],
   "source": [
    "# load the model from disk\n",
    "\n",
    "import _pickle as pickle\n",
    "filename = '/Users/cynding/Desktop/Brandeis 2021 Fall/BUS 256A - Marketing Analytics/final project/ml_model.sav'\n",
    "rf = pickle.load(open(filename, 'rb'))\n",
    "#result = loaded_model.score(X_test, Y_test)"
   ]
  },
  {
   "cell_type": "markdown",
   "id": "bc2dcd83",
   "metadata": {},
   "source": [
    "#### 4. Predict the sentiment of tweets"
   ]
  },
  {
   "cell_type": "code",
   "execution_count": 8,
   "id": "28a8332a",
   "metadata": {},
   "outputs": [],
   "source": [
    "features = [c for c in tfidf_df.columns]\n",
    "X_twitter = marriott_tweets[features]\n",
    "y_twitter_pred = rf.predict(X_twitter)\n",
    "\n",
    "marriott_tweets = pd.concat([marriott_tweets, pd.Series(y_twitter_pred)], axis=1)\n",
    "marriott_tweets = marriott_tweets.rename(columns={0: 'Predicted Score'})"
   ]
  },
  {
   "cell_type": "code",
   "execution_count": 20,
   "id": "1476e37e",
   "metadata": {},
   "outputs": [
    {
     "data": {
      "text/html": [
       "<div>\n",
       "<style scoped>\n",
       "    .dataframe tbody tr th:only-of-type {\n",
       "        vertical-align: middle;\n",
       "    }\n",
       "\n",
       "    .dataframe tbody tr th {\n",
       "        vertical-align: top;\n",
       "    }\n",
       "\n",
       "    .dataframe thead th {\n",
       "        text-align: right;\n",
       "    }\n",
       "</style>\n",
       "<table border=\"1\" class=\"dataframe\">\n",
       "  <thead>\n",
       "    <tr style=\"text-align: right;\">\n",
       "      <th></th>\n",
       "      <th>User</th>\n",
       "      <th>Time</th>\n",
       "      <th>Text</th>\n",
       "      <th>Predicted Score</th>\n",
       "    </tr>\n",
       "  </thead>\n",
       "  <tbody>\n",
       "    <tr>\n",
       "      <th>0</th>\n",
       "      <td>MBonvoyAssist</td>\n",
       "      <td>2022-03-09 01:34:32</td>\n",
       "      <td>greiwejessica hi jessica usually point refund immediately would like look please dm provide marriott bonvoy member number email address associate account recently post past stay hotel name date stay</td>\n",
       "      <td>5.0</td>\n",
       "    </tr>\n",
       "    <tr>\n",
       "      <th>1</th>\n",
       "      <td>BruceCashbaugh</td>\n",
       "      <td>2022-03-09 01:32:57</td>\n",
       "      <td>mbonvoyassist rare time i’m marriott rumor beach restaurants true throughout san juan beach area true marriott resort casino</td>\n",
       "      <td>1.0</td>\n",
       "    </tr>\n",
       "    <tr>\n",
       "      <th>2</th>\n",
       "      <td>lawbreakerlegal</td>\n",
       "      <td>2022-03-09 01:32:46</td>\n",
       "      <td>tedcruz speaking year’s populist conference ritz cancun btw jw marriott’s better… sayin</td>\n",
       "      <td>1.0</td>\n",
       "    </tr>\n",
       "    <tr>\n",
       "      <th>3</th>\n",
       "      <td>ghs158</td>\n",
       "      <td>2022-03-09 01:32:44</td>\n",
       "      <td>accor\\namerisourcebergen\\narconic\\nbridgestone tire\\nbunge\\ncargill\\ncaterpillar\\nciti\\ncoty\\ndeere\\nfast retailing/uniqlo\\nferragamo\\nherbalife\\nhilton\\nhoneywell\\nhyatt\\nbridgestone tires\\nchesnot\\nintercontinental hotels\\nkellogg\\nkimberly-clark\\nkraft heinz\\nmarriott\\nmars\\nmohawk industry</td>\n",
       "      <td>1.0</td>\n",
       "    </tr>\n",
       "    <tr>\n",
       "      <th>4</th>\n",
       "      <td>TYee65965384</td>\n",
       "      <td>2022-03-09 01:32:36</td>\n",
       "      <td>tweetskoor haven’t year recall marriott property nice walk local restaurant nearby palm beach hotel stay rio inclusive nice bed uncomfortable pool property quite nice</td>\n",
       "      <td>5.0</td>\n",
       "    </tr>\n",
       "  </tbody>\n",
       "</table>\n",
       "</div>"
      ],
      "text/plain": [
       "              User                 Time  \\\n",
       "0  MBonvoyAssist    2022-03-09 01:34:32   \n",
       "1  BruceCashbaugh   2022-03-09 01:32:57   \n",
       "2  lawbreakerlegal  2022-03-09 01:32:46   \n",
       "3  ghs158           2022-03-09 01:32:44   \n",
       "4  TYee65965384     2022-03-09 01:32:36   \n",
       "\n",
       "                                                                                                                                                                                                                                                                                                     Text  \\\n",
       "0  greiwejessica hi jessica usually point refund immediately would like look please dm provide marriott bonvoy member number email address associate account recently post past stay hotel name date stay                                                                                                   \n",
       "1  mbonvoyassist rare time i’m marriott rumor beach restaurants true throughout san juan beach area true marriott resort casino                                                                                                                                                                             \n",
       "2  tedcruz speaking year’s populist conference ritz cancun btw jw marriott’s better… sayin                                                                                                                                                                                                                  \n",
       "3  accor\\namerisourcebergen\\narconic\\nbridgestone tire\\nbunge\\ncargill\\ncaterpillar\\nciti\\ncoty\\ndeere\\nfast retailing/uniqlo\\nferragamo\\nherbalife\\nhilton\\nhoneywell\\nhyatt\\nbridgestone tires\\nchesnot\\nintercontinental hotels\\nkellogg\\nkimberly-clark\\nkraft heinz\\nmarriott\\nmars\\nmohawk industry   \n",
       "4  tweetskoor haven’t year recall marriott property nice walk local restaurant nearby palm beach hotel stay rio inclusive nice bed uncomfortable pool property quite nice                                                                                                                                   \n",
       "\n",
       "   Predicted Score  \n",
       "0  5.0              \n",
       "1  1.0              \n",
       "2  1.0              \n",
       "3  1.0              \n",
       "4  5.0              "
      ]
     },
     "execution_count": 20,
     "metadata": {},
     "output_type": "execute_result"
    }
   ],
   "source": [
    "marriott_tweets[['User','Time','Text','Predicted Score']].head()"
   ]
  },
  {
   "cell_type": "code",
   "execution_count": 9,
   "id": "77d086ab",
   "metadata": {},
   "outputs": [
    {
     "data": {
      "text/plain": [
       "1.0    83\n",
       "5.0    29\n",
       "4.0    22\n",
       "3.0     6\n",
       "2.0     4\n",
       "Name: Predicted Score, dtype: int64"
      ]
     },
     "execution_count": 9,
     "metadata": {},
     "output_type": "execute_result"
    }
   ],
   "source": [
    "marriott_tweets['Predicted Score'].value_counts()"
   ]
  },
  {
   "cell_type": "code",
   "execution_count": 10,
   "id": "7664c75a",
   "metadata": {},
   "outputs": [
    {
     "name": "stderr",
     "output_type": "stream",
     "text": [
      "/var/folders/dl/l3zy8j197jn9h7zpll2v7q9w0000gn/T/ipykernel_10013/3652881321.py:1: FutureWarning: Passing a negative integer is deprecated in version 1.0 and will not be supported in future version. Instead, use None to not limit the column width.\n",
      "  pd.set_option('display.max_colwidth', -1)\n"
     ]
    }
   ],
   "source": [
    "pd.set_option('display.max_colwidth', -1)"
   ]
  },
  {
   "cell_type": "code",
   "execution_count": 24,
   "id": "23d6a3be",
   "metadata": {},
   "outputs": [
    {
     "data": {
      "text/html": [
       "<div>\n",
       "<style scoped>\n",
       "    .dataframe tbody tr th:only-of-type {\n",
       "        vertical-align: middle;\n",
       "    }\n",
       "\n",
       "    .dataframe tbody tr th {\n",
       "        vertical-align: top;\n",
       "    }\n",
       "\n",
       "    .dataframe thead th {\n",
       "        text-align: right;\n",
       "    }\n",
       "</style>\n",
       "<table border=\"1\" class=\"dataframe\">\n",
       "  <thead>\n",
       "    <tr style=\"text-align: right;\">\n",
       "      <th></th>\n",
       "      <th>Text</th>\n",
       "      <th>Predicted Score</th>\n",
       "    </tr>\n",
       "  </thead>\n",
       "  <tbody>\n",
       "    <tr>\n",
       "      <th>36</th>\n",
       "      <td>new try crab amp plank rustic artisan butcher middle hedge maze near marriott southkensington https://t.co/hnjcufmojk</td>\n",
       "      <td>1.0</td>\n",
       "    </tr>\n",
       "    <tr>\n",
       "      <th>80</th>\n",
       "      <td>marriott yeah yeah understand marriott prefers support genocide innocent people ukraine russian military aggression</td>\n",
       "      <td>1.0</td>\n",
       "    </tr>\n",
       "    <tr>\n",
       "      <th>42</th>\n",
       "      <td>mommoek marriottbonvoy marriott marriottintl courtyardhotels residenceinn marriottvacclub mbonvoyassist they’ve go silent message ceo zero response cancel night booking</td>\n",
       "      <td>1.0</td>\n",
       "    </tr>\n",
       "    <tr>\n",
       "      <th>142</th>\n",
       "      <td>click link bio see currently open facilitiesmgmt job like housekeep associate public space madison marriott middleton wi housekeepingassociate</td>\n",
       "      <td>1.0</td>\n",
       "    </tr>\n",
       "    <tr>\n",
       "      <th>135</th>\n",
       "      <td>andersostlund hiltonhotels marriott still allow book russian property</td>\n",
       "      <td>1.0</td>\n",
       "    </tr>\n",
       "    <tr>\n",
       "      <th>6</th>\n",
       "      <td>think wanna make parallel marriott rouge marriott put wall scared time harper genuine confident rouge kindhearted patient jeanie sassy hot temper</td>\n",
       "      <td>1.0</td>\n",
       "    </tr>\n",
       "    <tr>\n",
       "      <th>74</th>\n",
       "      <td>inspired real event theporterseries follow ensemble character hustle dream cross border pursue ambition fight liberation railway cross north america theporter</td>\n",
       "      <td>1.0</td>\n",
       "    </tr>\n",
       "    <tr>\n",
       "      <th>87</th>\n",
       "      <td>thanks marriott membersgetit rewardspoints findyourroute mrpoints</td>\n",
       "      <td>1.0</td>\n",
       "    </tr>\n",
       "    <tr>\n",
       "      <th>89</th>\n",
       "      <td>apparently follow company get memo stop business russia:\\npapa johns\\ncaterpillar\\nnestle\\nmarriott\\nwhirlpool\\nphillip morris\\nkraft\\nkelloggs\\nmars\\nafter death destruction persist make buck</td>\n",
       "      <td>1.0</td>\n",
       "    </tr>\n",
       "    <tr>\n",
       "      <th>70</th>\n",
       "      <td>rhino_records donnyhathawaylp start steve marriott ronnie lane thepoacher</td>\n",
       "      <td>1.0</td>\n",
       "    </tr>\n",
       "  </tbody>\n",
       "</table>\n",
       "</div>"
      ],
      "text/plain": [
       "                                                                                                                                                                                                 Text  \\\n",
       "36   new try crab amp plank rustic artisan butcher middle hedge maze near marriott southkensington https://t.co/hnjcufmojk                                                                              \n",
       "80   marriott yeah yeah understand marriott prefers support genocide innocent people ukraine russian military aggression                                                                                \n",
       "42   mommoek marriottbonvoy marriott marriottintl courtyardhotels residenceinn marriottvacclub mbonvoyassist they’ve go silent message ceo zero response cancel night booking                           \n",
       "142  click link bio see currently open facilitiesmgmt job like housekeep associate public space madison marriott middleton wi housekeepingassociate                                                     \n",
       "135  andersostlund hiltonhotels marriott still allow book russian property                                                                                                                              \n",
       "6    think wanna make parallel marriott rouge marriott put wall scared time harper genuine confident rouge kindhearted patient jeanie sassy hot temper                                                  \n",
       "74   inspired real event theporterseries follow ensemble character hustle dream cross border pursue ambition fight liberation railway cross north america theporter                                     \n",
       "87   thanks marriott membersgetit rewardspoints findyourroute mrpoints                                                                                                                                  \n",
       "89   apparently follow company get memo stop business russia:\\npapa johns\\ncaterpillar\\nnestle\\nmarriott\\nwhirlpool\\nphillip morris\\nkraft\\nkelloggs\\nmars\\nafter death destruction persist make buck   \n",
       "70   rhino_records donnyhathawaylp start steve marriott ronnie lane thepoacher                                                                                                                          \n",
       "\n",
       "     Predicted Score  \n",
       "36   1.0              \n",
       "80   1.0              \n",
       "42   1.0              \n",
       "142  1.0              \n",
       "135  1.0              \n",
       "6    1.0              \n",
       "74   1.0              \n",
       "87   1.0              \n",
       "89   1.0              \n",
       "70   1.0              "
      ]
     },
     "execution_count": 24,
     "metadata": {},
     "output_type": "execute_result"
    }
   ],
   "source": [
    "marriott_tweets[marriott_tweets['Predicted Score']==1][['Text','Predicted Score']].sample(n=10)"
   ]
  },
  {
   "cell_type": "code",
   "execution_count": 17,
   "id": "39fa0376",
   "metadata": {},
   "outputs": [
    {
     "data": {
      "text/html": [
       "<div>\n",
       "<style scoped>\n",
       "    .dataframe tbody tr th:only-of-type {\n",
       "        vertical-align: middle;\n",
       "    }\n",
       "\n",
       "    .dataframe tbody tr th {\n",
       "        vertical-align: top;\n",
       "    }\n",
       "\n",
       "    .dataframe thead th {\n",
       "        text-align: right;\n",
       "    }\n",
       "</style>\n",
       "<table border=\"1\" class=\"dataframe\">\n",
       "  <thead>\n",
       "    <tr style=\"text-align: right;\">\n",
       "      <th></th>\n",
       "      <th>Text</th>\n",
       "      <th>Predicted Score</th>\n",
       "    </tr>\n",
       "  </thead>\n",
       "  <tbody>\n",
       "    <tr>\n",
       "      <th>81</th>\n",
       "      <td>love experience marriott membersgetit rewardspoints findyourroute mrpoints</td>\n",
       "      <td>5.0</td>\n",
       "    </tr>\n",
       "    <tr>\n",
       "      <th>100</th>\n",
       "      <td>ipl team hotels:\\n\\ncsk trident nariman point.\\nrcb taj land end.\\nmi trident bkc.\\nkkr itc grand central.\\ndc taj palace.\\nrr grand hyatt.\\ngt jw marriot.\\nlsg taj vivanta.\\nsrh itc maratha.\\npbks renaissance.\\n\\n jw marriott/conard hotel pune</td>\n",
       "      <td>5.0</td>\n",
       "    </tr>\n",
       "    <tr>\n",
       "      <th>59</th>\n",
       "      <td>altrinchamfc it’s joy commentate performance like every player alty squad superb goal game mkosylo first sensational finish pas game ball isaac_marriott delicious weight amp brianjamesflynn purr commentary ⚽️🎙</td>\n",
       "      <td>5.0</td>\n",
       "    </tr>\n",
       "    <tr>\n",
       "      <th>141</th>\n",
       "      <td>hill\\nyale researcher release run list company still operate russia include nestle hilton hotel marriott hotel papa john's pizza kraft-heinz among others</td>\n",
       "      <td>5.0</td>\n",
       "    </tr>\n",
       "    <tr>\n",
       "      <th>60</th>\n",
       "      <td>love experience marriott membersgetit rewardspoints findyourroute mrpoints</td>\n",
       "      <td>5.0</td>\n",
       "    </tr>\n",
       "  </tbody>\n",
       "</table>\n",
       "</div>"
      ],
      "text/plain": [
       "                                                                                                                                                                                                                                                     Text  \\\n",
       "81   love experience marriott membersgetit rewardspoints findyourroute mrpoints                                                                                                                                                                             \n",
       "100  ipl team hotels:\\n\\ncsk trident nariman point.\\nrcb taj land end.\\nmi trident bkc.\\nkkr itc grand central.\\ndc taj palace.\\nrr grand hyatt.\\ngt jw marriot.\\nlsg taj vivanta.\\nsrh itc maratha.\\npbks renaissance.\\n\\n jw marriott/conard hotel pune   \n",
       "59   altrinchamfc it’s joy commentate performance like every player alty squad superb goal game mkosylo first sensational finish pas game ball isaac_marriott delicious weight amp brianjamesflynn purr commentary ⚽️🎙                                      \n",
       "141  hill\\nyale researcher release run list company still operate russia include nestle hilton hotel marriott hotel papa john's pizza kraft-heinz among others                                                                                              \n",
       "60   love experience marriott membersgetit rewardspoints findyourroute mrpoints                                                                                                                                                                             \n",
       "\n",
       "     Predicted Score  \n",
       "81   5.0              \n",
       "100  5.0              \n",
       "59   5.0              \n",
       "141  5.0              \n",
       "60   5.0              "
      ]
     },
     "execution_count": 17,
     "metadata": {},
     "output_type": "execute_result"
    }
   ],
   "source": [
    "marriott_tweets[marriott_tweets['Predicted Score']==5][['Text','Predicted Score']].sample(n=5)"
   ]
  },
  {
   "cell_type": "code",
   "execution_count": 23,
   "id": "957f0ed3",
   "metadata": {},
   "outputs": [
    {
     "data": {
      "text/plain": [
       "(-1.1039482814586845,\n",
       " 1.1001880158997213,\n",
       " -1.1232909631463632,\n",
       " 1.1110129954640744)"
      ]
     },
     "execution_count": 23,
     "metadata": {},
     "output_type": "execute_result"
    },
    {
     "data": {
      "image/png": "[encoded data removed]",
      "text/plain": [
       "<Figure size 432x288 with 1 Axes>"
      ]
     },
     "metadata": {},
     "output_type": "display_data"
    }
   ],
   "source": [
    "import matplotlib.pyplot as plt\n",
    "\n",
    "a = marriott_tweets['Predicted Score'].value_counts(normalize=True)\n",
    "# return the relative frequencies of the unique values\n",
    "plt.pie(a.values,labels = a.index,autopct='%1.1f%%')\n",
    "plt.title('Percentage of Predicted Score')\n",
    "plt.axis('equal')"
   ]
  },
  {
   "cell_type": "markdown",
   "id": "53db8444",
   "metadata": {},
   "source": [
    "When we looked at the statistical summary of the predicted score, we can sense that the prediction is not very ideal as the average predicted score is 4.94 with only 4 predictions that is not a 5. \n",
    "This is align with the unbalanced structure of the training dataset (more than 90% of the records with the score 5) and the different wordings in the context of official website and twitter."
   ]
  }
 ],
 "metadata": {
  "kernelspec": {
   "display_name": "Python 3 (ipykernel)",
   "language": "python",
   "name": "python3"
  },
  "language_info": {
   "codemirror_mode": {
    "name": "ipython",
    "version": 3
   },
   "file_extension": ".py",
   "mimetype": "text/x-python",
   "name": "python",
   "nbconvert_exporter": "python",
   "pygments_lexer": "ipython3",
   "version": "3.8.8"
  }
 },
 "nbformat": 4,
 "nbformat_minor": 5
}
