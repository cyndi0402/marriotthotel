{
 "cells": [
  {
   "cell_type": "markdown",
   "id": "3f6b25e4",
   "metadata": {},
   "source": [
    "# Tweets Scrapping\n",
    "### Steps\n",
    "1. Set up tweepy authentication\n",
    "2. Search Tweets\n",
    "3. Append tweets info to a pandas dataframe"
   ]
  },
  {
   "cell_type": "markdown",
   "id": "9972813a",
   "metadata": {},
   "source": [
    "### Set up tweepy authentication"
   ]
  },
  {
   "cell_type": "code",
   "execution_count": 1,
   "id": "bc26e8ec",
   "metadata": {},
   "outputs": [],
   "source": [
    "import tweepy\n",
    "from tweepy import OAuthHandler\n",
    "from tweepy import API\n",
    "import pandas as pd\n",
    "\n",
    "# Consumer key authentication\n",
    "\n",
    "api_key = 'zVCkUaVBASfQEqsDihlOXPk37'\n",
    "api_key_secret = 'xEkxJOwfM5MvPINloFL3hDdVvyK0qRXAtFHcW4sgW4Wfet3iiR'\n",
    "auth = OAuthHandler(api_key, api_key_secret)\n",
    "\n",
    "access_token = '1456751370787115010-4cT91Wo3dfjFnoZmvjsF6ynBtabU2p'\n",
    "access_token_secret = 'JRIPj8i5SynqHL1ROK8qujuzidNZQrMVJKQV13Pkp2hDJ'\n",
    "\n",
    "# Access key authentication\n",
    "\n",
    "auth.set_access_token(access_token, access_token_secret)\n",
    "\n",
    "# Set up the API with the authentication handler\n",
    "api = API(auth)"
   ]
  },
  {
   "cell_type": "markdown",
   "id": "57c77fb6",
   "metadata": {},
   "source": [
    "### Search Tweets"
   ]
  },
  {
   "cell_type": "code",
   "execution_count": 2,
   "id": "a0469c5c",
   "metadata": {},
   "outputs": [],
   "source": [
    "keywords = ['marriott']\n",
    "limit=300\n",
    "tweets = tweepy.Cursor(api.search,\n",
    "                       q=keywords,\n",
    "                       count=100,\n",
    "                       tweet_mode='extended',\n",
    "                       lang='en').items(limit)"
   ]
  },
  {
   "cell_type": "markdown",
   "id": "74d9ad3a",
   "metadata": {},
   "source": [
    "### Append tweets info to a pandas dataframe"
   ]
  },
  {
   "cell_type": "code",
   "execution_count": 3,
   "id": "b5652423",
   "metadata": {},
   "outputs": [
    {
     "data": {
      "text/plain": [
       "(142, 3)"
      ]
     },
     "execution_count": 3,
     "metadata": {},
     "output_type": "execute_result"
    }
   ],
   "source": [
    "columns = ['User','Time','Text']\n",
    "data = []\n",
    "for tweet in tweets:\n",
    "    if not tweet.retweeted and 'RT @' not in tweet.full_text:\n",
    "        data.append([tweet.user.screen_name,tweet.created_at,tweet.full_text])\n",
    "marriott_tweets = pd.DataFrame(data,columns=columns)\n",
    "marriott_tweets.shape"
   ]
  },
  {
   "cell_type": "markdown",
   "id": "6c347fc1",
   "metadata": {},
   "source": [
    "We got 144 tweets containing the keyword 'marriott'."
   ]
  },
  {
   "cell_type": "code",
   "execution_count": 4,
   "id": "0e7c06fa",
   "metadata": {},
   "outputs": [
    {
     "data": {
      "text/html": [
       "<div>\n",
       "<style scoped>\n",
       "    .dataframe tbody tr th:only-of-type {\n",
       "        vertical-align: middle;\n",
       "    }\n",
       "\n",
       "    .dataframe tbody tr th {\n",
       "        vertical-align: top;\n",
       "    }\n",
       "\n",
       "    .dataframe thead th {\n",
       "        text-align: right;\n",
       "    }\n",
       "</style>\n",
       "<table border=\"1\" class=\"dataframe\">\n",
       "  <thead>\n",
       "    <tr style=\"text-align: right;\">\n",
       "      <th></th>\n",
       "      <th>User</th>\n",
       "      <th>Time</th>\n",
       "      <th>Text</th>\n",
       "    </tr>\n",
       "  </thead>\n",
       "  <tbody>\n",
       "    <tr>\n",
       "      <th>0</th>\n",
       "      <td>Srinath_Dhilsan</td>\n",
       "      <td>2022-03-09 01:37:42</td>\n",
       "      <td>IPL 2022 Team Hotels:\\n\\nCSK - Trident Nariman...</td>\n",
       "    </tr>\n",
       "    <tr>\n",
       "      <th>1</th>\n",
       "      <td>MBonvoyAssist</td>\n",
       "      <td>2022-03-09 01:34:32</td>\n",
       "      <td>@GreiweJessica Hi Jessica, usually Points are ...</td>\n",
       "    </tr>\n",
       "    <tr>\n",
       "      <th>2</th>\n",
       "      <td>BruceCashbaugh</td>\n",
       "      <td>2022-03-09 01:32:57</td>\n",
       "      <td>@MBonvoyAssist This is a rare time I’m not at ...</td>\n",
       "    </tr>\n",
       "    <tr>\n",
       "      <th>3</th>\n",
       "      <td>lawbreakerlegal</td>\n",
       "      <td>2022-03-09 01:32:46</td>\n",
       "      <td>@tedcruz So … will you be speaking at this yea...</td>\n",
       "    </tr>\n",
       "    <tr>\n",
       "      <th>4</th>\n",
       "      <td>ghs158</td>\n",
       "      <td>2022-03-09 01:32:44</td>\n",
       "      <td>Accor\\nAmerisourceBergen\\nArconic\\nBridgestone...</td>\n",
       "    </tr>\n",
       "  </tbody>\n",
       "</table>\n",
       "</div>"
      ],
      "text/plain": [
       "              User                Time  \\\n",
       "0  Srinath_Dhilsan 2022-03-09 01:37:42   \n",
       "1    MBonvoyAssist 2022-03-09 01:34:32   \n",
       "2   BruceCashbaugh 2022-03-09 01:32:57   \n",
       "3  lawbreakerlegal 2022-03-09 01:32:46   \n",
       "4           ghs158 2022-03-09 01:32:44   \n",
       "\n",
       "                                                Text  \n",
       "0  IPL 2022 Team Hotels:\\n\\nCSK - Trident Nariman...  \n",
       "1  @GreiweJessica Hi Jessica, usually Points are ...  \n",
       "2  @MBonvoyAssist This is a rare time I’m not at ...  \n",
       "3  @tedcruz So … will you be speaking at this yea...  \n",
       "4  Accor\\nAmerisourceBergen\\nArconic\\nBridgestone...  "
      ]
     },
     "execution_count": 4,
     "metadata": {},
     "output_type": "execute_result"
    }
   ],
   "source": [
    "marriott_tweets.head()"
   ]
  },
  {
   "cell_type": "code",
   "execution_count": 5,
   "id": "00a99b68",
   "metadata": {},
   "outputs": [],
   "source": [
    "marriott_tweets.to_csv('/Users/cynding/Desktop/Brandeis 2021 Fall/BUS 256A - Marketing Analytics/final project/marriott_tweets.csv')"
   ]
  },
  {
   "cell_type": "code",
   "execution_count": null,
   "id": "aba645e8",
   "metadata": {},
   "outputs": [],
   "source": []
  }
 ],
 "metadata": {
  "kernelspec": {
   "display_name": "Python 3 (ipykernel)",
   "language": "python",
   "name": "python3"
  },
  "language_info": {
   "codemirror_mode": {
    "name": "ipython",
    "version": 3
   },
   "file_extension": ".py",
   "mimetype": "text/x-python",
   "name": "python",
   "nbconvert_exporter": "python",
   "pygments_lexer": "ipython3",
   "version": "3.8.8"
  }
 },
 "nbformat": 4,
 "nbformat_minor": 5
}
