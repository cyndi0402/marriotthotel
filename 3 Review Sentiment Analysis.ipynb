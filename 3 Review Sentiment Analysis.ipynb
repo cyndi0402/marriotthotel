{
 "cells": [
  {
   "cell_type": "code",
   "execution_count": 28,
   "id": "fd267974",
   "metadata": {},
   "outputs": [],
   "source": [
    "import numpy as np\n",
    "import pandas as pd\n",
    "df = pd.read_csv('/Users/cynding/Desktop/Brandeis 2021 Fall/BUS 256A - Marketing Analytics/final project/marriott_hotel_reviews.csv')\n",
    "# df['Total_Score'].value_counts().max()/df.shape[0]"
   ]
  },
  {
   "cell_type": "markdown",
   "id": "4a2af631",
   "metadata": {},
   "source": [
    "### Clean Text Data"
   ]
  },
  {
   "cell_type": "code",
   "execution_count": 29,
   "id": "a1c855eb",
   "metadata": {},
   "outputs": [],
   "source": [
    "df['Review']=df['Review'].astype(str)"
   ]
  },
  {
   "cell_type": "code",
   "execution_count": 30,
   "id": "8f74cdeb",
   "metadata": {},
   "outputs": [],
   "source": [
    "# return the wordnet object value corresponding to the POS tag\n",
    "from nltk.corpus import wordnet\n",
    "import string\n",
    "from nltk import pos_tag\n",
    "from nltk.corpus import stopwords\n",
    "from nltk.tokenize import WhitespaceTokenizer\n",
    "from nltk.stem import WordNetLemmatizer\n",
    "\n",
    "'''\n",
    "Part-Of-Speech (POS) tagging: assign a tag to every word to define \n",
    "if it corresponds to a noun, a verb etc. using the WordNet lexical database\n",
    "'''\n",
    "\n",
    "def get_wordnet_pos(pos_tag):\n",
    "    if pos_tag.startswith('J'):\n",
    "        return wordnet.ADJ\n",
    "    elif pos_tag.startswith('V'):\n",
    "        return wordnet.VERB\n",
    "    elif pos_tag.startswith('N'):\n",
    "        return wordnet.NOUN\n",
    "    elif pos_tag.startswith('R'):\n",
    "        return wordnet.ADV\n",
    "    else:\n",
    "        return wordnet.NOUN"
   ]
  },
  {
   "cell_type": "code",
   "execution_count": 31,
   "id": "0c8d13a0",
   "metadata": {},
   "outputs": [],
   "source": [
    "def clean_text(text):\n",
    "    # lower text\n",
    "    text = text.lower()\n",
    "    #\n",
    "    text = text.replace(\"n't\",\" not\")\n",
    "    text = text.replace(\"i'm\",\"i am\")\n",
    "    text = text.replace(\"i'd\",\"i would\")\n",
    "    text = text.replace(\"i've\",\"i have\")\n",
    "    text = text.replace(\"we're\",\"we are\")\n",
    "    text = text.replace(\"'ll\",\" will\")\n",
    "    text = text.replace(\"that's\",\"that is\")\n",
    "    \n",
    "    # tokenize text and remove puncutation\n",
    "    text = [word.strip(string.punctuation) for word in text.split(\" \")]\n",
    "    # remove words that contain numbers\n",
    "    text = [word for word in text if not any(c.isdigit() for c in word)]\n",
    "    # remove stop words\n",
    "    stop = stopwords.words('english')\n",
    "    text = [x for x in text if x not in stop]\n",
    "    # remove empty tokens\n",
    "    text = [t for t in text if len(t) > 0]\n",
    "    # pos tag text\n",
    "    pos_tags = pos_tag(text)\n",
    "    # lemmatize text: transform every word into their root form \n",
    "    text = [WordNetLemmatizer().lemmatize(t[0], get_wordnet_pos(t[1])) for t in pos_tags]\n",
    "    # remove words with only one letter\n",
    "    text = [t for t in text if len(t) > 1]\n",
    "    # join all\n",
    "    text = \" \".join(text)\n",
    "    return(text)\n",
    "\n",
    "# clean text data\n",
    "df['Review'] = df['Review'].apply(lambda x: clean_text(x))"
   ]
  },
  {
   "cell_type": "markdown",
   "id": "65a79fbd",
   "metadata": {},
   "source": [
    "### Feature Engineering"
   ]
  },
  {
   "cell_type": "code",
   "execution_count": 32,
   "id": "9987f886",
   "metadata": {},
   "outputs": [],
   "source": [
    "# add sentiment anaylsis columns\n",
    "#from nltk.sentiment.vader import SentimentIntensityAnalyzer\n",
    "\n",
    "#sid = SentimentIntensityAnalyzer()\n",
    "#df['sentiments'] = df['Review'].apply(lambda x: sid.polarity_scores(x))\n",
    "#df = pd.concat([df.drop(['sentiments'], axis=1), df['sentiments'].apply(pd.Series)], axis=1)"
   ]
  },
  {
   "cell_type": "code",
   "execution_count": 33,
   "id": "f6b618d3",
   "metadata": {},
   "outputs": [],
   "source": [
    "from sklearn.feature_extraction.text import TfidfVectorizer"
   ]
  },
  {
   "cell_type": "code",
   "execution_count": 34,
   "id": "23cfe34c",
   "metadata": {},
   "outputs": [],
   "source": [
    "tfidf = TfidfVectorizer(min_df = 5,max_df=0.5)\n",
    "tfidf_result = tfidf.fit_transform(df['Review'].astype('U')).toarray()\n",
    "tfidf_df = pd.DataFrame(tfidf_result,columns=tfidf.get_feature_names_out())\n",
    "tfidf_df.columns = [\"word_\" + str(x) for x in tfidf_df.columns]\n",
    "tfidf_df.index = df.index\n",
    "df = pd.concat([df, tfidf_df], axis=1)"
   ]
  },
  {
   "cell_type": "markdown",
   "id": "cd524da2",
   "metadata": {},
   "source": [
    "### Modelling"
   ]
  },
  {
   "cell_type": "markdown",
   "id": "6429f4bd",
   "metadata": {},
   "source": [
    "#### The classifiers I used\n",
    "- Random Forest Classifier\n",
    "- Naive-Bayes Classifier\n",
    "- KNN Classifier"
   ]
  },
  {
   "cell_type": "code",
   "execution_count": 35,
   "id": "7b2aa019",
   "metadata": {},
   "outputs": [],
   "source": [
    "from sklearn.model_selection import cross_validate\n",
    "from sklearn.model_selection import ShuffleSplit\n",
    "from sklearn.metrics import confusion_matrix\n",
    "from sklearn.model_selection import train_test_split\n",
    "\n",
    "# Models\n",
    "from sklearn.linear_model import LinearRegression\n",
    "from sklearn.ensemble import RandomForestClassifier\n",
    "from sklearn.naive_bayes import MultinomialNB\n",
    "from sklearn.neighbors import KNeighborsClassifier\n",
    "from sklearn.linear_model import Ridge"
   ]
  },
  {
   "cell_type": "code",
   "execution_count": 36,
   "id": "fd781991",
   "metadata": {},
   "outputs": [],
   "source": [
    "# deal with unbalanced data\n",
    "\n",
    "# under sampling\n",
    "\n",
    "count2 = df['Total_Score'].value_counts().min()\n",
    "\n",
    "score1 = df[df['Total_Score']==1]\n",
    "score2 = df[df['Total_Score']==2]\n",
    "score3 = df[df['Total_Score']==3]\n",
    "score4 = df[df['Total_Score']==4]\n",
    "score5 = df[df['Total_Score']==5]\n",
    "\n",
    "under1 = score1.sample(count2,replace=True)\n",
    "under3 = score3.sample(count2,replace=True)\n",
    "under4 = score4.sample(count2,replace=True)\n",
    "under5 = score5.sample(count2,replace=True)\n",
    "\n",
    "df = pd.concat([under1,under3,under4,under5,score2],axis=0)"
   ]
  },
  {
   "cell_type": "code",
   "execution_count": 37,
   "id": "1078c9e5",
   "metadata": {},
   "outputs": [],
   "source": [
    "label = 'Total_Score'\n",
    "features = [c for c in tfidf_df.columns]\n",
    "\n",
    "X = df[features]\n",
    "y = df[label]\n",
    "\n",
    "X_train, X_test, y_train, y_test = train_test_split(X, y,test_size=0.25,stratify=y,random_state=42)"
   ]
  },
  {
   "cell_type": "code",
   "execution_count": 38,
   "id": "ad47df82",
   "metadata": {},
   "outputs": [],
   "source": [
    "def rough_accuracy(y_test,y_pred):\n",
    "    count = 0\n",
    "    for i in range(len(y_test)):\n",
    "        y_test_list = y_test.to_list()\n",
    "        if ((y_test_list[i] - y_pred[i])>=-1) & ((y_test_list[i] - y_pred[i])<=1):\n",
    "            count = count+1\n",
    "    rough_accuracy = count/len(y_test)\n",
    "    return rough_accuracy"
   ]
  },
  {
   "cell_type": "markdown",
   "id": "77f0d5f8",
   "metadata": {},
   "source": [
    "#### 1. Linear regression (Lasso)"
   ]
  },
  {
   "cell_type": "code",
   "execution_count": 39,
   "id": "0e794183",
   "metadata": {},
   "outputs": [
    {
     "name": "stdout",
     "output_type": "stream",
     "text": [
      "Train score: 0.7004884270204026\n",
      "Train sd: 0.013405137888185892\n",
      "Test score: 0.3864854716915093\n",
      "Test sd: 0.043551750511098976\n"
     ]
    }
   ],
   "source": [
    "# train a linear regression model\n",
    "lr = LinearRegression()\n",
    "ridge = Ridge(alpha=0.3)\n",
    "\n",
    "nmc = 25\n",
    "testSize = 0.25\n",
    "shuffle = ShuffleSplit(n_splits=nmc,test_size=testSize)\n",
    "CVInfo = cross_validate(ridge,X,y,cv=shuffle,return_train_score=True)\n",
    "\n",
    "# train score and test score\n",
    "lasso_train_score = np.mean(CVInfo['train_score'])\n",
    "lasso_test_score = np.mean(CVInfo['test_score'])\n",
    "print('Train score:',lasso_train_score)\n",
    "print('Train sd:',np.std(CVInfo['train_score']))\n",
    "print('Test score:',lasso_test_score)\n",
    "print('Test sd:',np.std(CVInfo['test_score']))"
   ]
  },
  {
   "cell_type": "markdown",
   "id": "42e63927",
   "metadata": {},
   "source": [
    "#### 2. Random Forest Classifier"
   ]
  },
  {
   "cell_type": "code",
   "execution_count": 40,
   "id": "fe72cf1c",
   "metadata": {},
   "outputs": [
    {
     "name": "stdout",
     "output_type": "stream",
     "text": [
      "Train score: 0.7309022556390978\n",
      "Train sd: 0.00944619475160266\n",
      "Test score: 0.4426966292134832\n",
      "Test sd: 0.02806740673437482\n"
     ]
    }
   ],
   "source": [
    "# train a random forest classifier\n",
    "rf = RandomForestClassifier(n_estimators = 100)\n",
    "# n_estimators is the number of trees you want to build before taking the maximum voting or averages of predictions\n",
    "\n",
    "nmc = 25\n",
    "testSize = 0.25\n",
    "shuffle = ShuffleSplit(n_splits=nmc,test_size=testSize)\n",
    "CVInfo = cross_validate(rf,X,y,cv=shuffle,return_train_score=True)\n",
    "\n",
    "# train score and test score\n",
    "rf_train_score = np.mean(CVInfo['train_score'])\n",
    "rf_test_score = np.mean(CVInfo['test_score'])\n",
    "print('Train score:',rf_train_score)\n",
    "print('Train sd:',np.std(CVInfo['train_score']))\n",
    "print('Test score:',rf_test_score)\n",
    "print('Test sd:',np.std(CVInfo['test_score']))"
   ]
  },
  {
   "cell_type": "code",
   "execution_count": 41,
   "id": "315d2586",
   "metadata": {},
   "outputs": [
    {
     "name": "stdout",
     "output_type": "stream",
     "text": [
      "[[16 10  6  1  3]\n",
      " [ 9 10  9  2  5]\n",
      " [ 8 13 11  1  3]\n",
      " [ 5  2  2 14 13]\n",
      " [ 1  2  0  2 30]]\n"
     ]
    }
   ],
   "source": [
    "rf.fit(X_train, y_train)\n",
    "y_pred = rf.predict(X_test)\n",
    "\n",
    "# Estimate a confusion matrix\n",
    "from sklearn.metrics import confusion_matrix\n",
    "cmat = confusion_matrix(y_test, y_pred)\n",
    "print(cmat)"
   ]
  },
  {
   "cell_type": "code",
   "execution_count": 42,
   "id": "5b8379d7",
   "metadata": {},
   "outputs": [
    {
     "data": {
      "text/plain": [
       "0.7865168539325843"
      ]
     },
     "execution_count": 42,
     "metadata": {},
     "output_type": "execute_result"
    }
   ],
   "source": [
    "rough_accuracy(y_test,y_pred)"
   ]
  },
  {
   "cell_type": "code",
   "execution_count": 43,
   "id": "224fd36b",
   "metadata": {},
   "outputs": [
    {
     "name": "stderr",
     "output_type": "stream",
     "text": [
      "/Users/cynding/opt/anaconda3/lib/python3.8/site-packages/sklearn/base.py:445: UserWarning: X does not have valid feature names, but RandomForestClassifier was fitted with feature names\n",
      "  warnings.warn(\n"
     ]
    },
    {
     "data": {
      "image/png": "[encoded data removed]",
      "text/plain": [
       "<Figure size 576x396 with 1 Axes>"
      ]
     },
     "metadata": {},
     "output_type": "display_data"
    },
    {
     "data": {
      "text/plain": [
       "<AxesSubplot:title={'center':'RandomForestClassifier Confusion Matrix'}, xlabel='Predicted Class', ylabel='True Class'>"
      ]
     },
     "execution_count": 43,
     "metadata": {},
     "output_type": "execute_result"
    }
   ],
   "source": [
    "from yellowbrick.classifier import ConfusionMatrix\n",
    "cm = ConfusionMatrix(rf)\n",
    "cm.fit(X_train, y_train)\n",
    "cm.score(X_test, y_test)\n",
    "cm.show()"
   ]
  },
  {
   "cell_type": "code",
   "execution_count": 44,
   "id": "d0d0467d",
   "metadata": {},
   "outputs": [],
   "source": [
    "# save the model to disk\n",
    "import _pickle as pickle\n",
    "filename = '/Users/cynding/Desktop/Brandeis 2021 Fall/BUS 256A - Marketing Analytics/final project/ml_model.sav'\n",
    "pickle.dump(rf, open(filename, 'wb'))"
   ]
  },
  {
   "cell_type": "markdown",
   "id": "713a96be",
   "metadata": {},
   "source": [
    "#### 3. Naive Bayes Classifier"
   ]
  },
  {
   "cell_type": "code",
   "execution_count": 17,
   "id": "e4390ed2",
   "metadata": {},
   "outputs": [
    {
     "name": "stdout",
     "output_type": "stream",
     "text": [
      "Train score: 74.44%\n",
      "Train sd: 0.61%\n",
      "Test score: 42.22%\n",
      "Test sd: 3.34%\n"
     ]
    }
   ],
   "source": [
    "mnb = MultinomialNB()\n",
    "nmc = 25\n",
    "testSize = 0.25\n",
    "shuffle = ShuffleSplit(n_splits=nmc,test_size=testSize)\n",
    "CVInfo = cross_validate(rf,X,y,cv=shuffle,return_train_score=True)\n",
    "\n",
    "mnb_train_score = np.mean(CVInfo['train_score'])\n",
    "mnb_test_score = np.mean(CVInfo['test_score'])\n",
    "# train score and test score\n",
    "print('Train score:',\"{:.2%}\".format(mnb_train_score))\n",
    "print('Train sd:',\"{:.2%}\".format(np.std(CVInfo['train_score'])))\n",
    "print('Test score:',\"{:.2%}\".format(mnb_test_score))\n",
    "print('Test sd:',\"{:.2%}\".format(np.std(CVInfo['test_score'])))"
   ]
  },
  {
   "cell_type": "code",
   "execution_count": 18,
   "id": "26e79d44",
   "metadata": {},
   "outputs": [
    {
     "name": "stdout",
     "output_type": "stream",
     "text": [
      "[[14 14  4  2  2]\n",
      " [ 7 16  5  7  0]\n",
      " [ 5 13 16  1  1]\n",
      " [ 2  4  2 16 12]\n",
      " [ 2  2  1  8 22]]\n"
     ]
    }
   ],
   "source": [
    "# train a naive bayes classifier\n",
    "mnb.fit(X_train, y_train)\n",
    "y_pred = mnb.predict(X_test)\n",
    "\n",
    "# Estimate a confusion matrix\n",
    "from sklearn.metrics import confusion_matrix\n",
    "cmat = confusion_matrix(y_test, y_pred)\n",
    "print(cmat)"
   ]
  },
  {
   "cell_type": "code",
   "execution_count": 19,
   "id": "f9183dee",
   "metadata": {},
   "outputs": [
    {
     "data": {
      "text/plain": [
       "0.8202247191011236"
      ]
     },
     "execution_count": 19,
     "metadata": {},
     "output_type": "execute_result"
    }
   ],
   "source": [
    "rough_accuracy(y_test,y_pred)"
   ]
  },
  {
   "cell_type": "code",
   "execution_count": 20,
   "id": "c7add647",
   "metadata": {},
   "outputs": [
    {
     "name": "stderr",
     "output_type": "stream",
     "text": [
      "/Users/cynding/opt/anaconda3/lib/python3.8/site-packages/sklearn/base.py:445: UserWarning: X does not have valid feature names, but MultinomialNB was fitted with feature names\n",
      "  warnings.warn(\n"
     ]
    },
    {
     "data": {
      "image/png": "[encoded data removed]",
      "text/plain": [
       "<Figure size 576x396 with 1 Axes>"
      ]
     },
     "metadata": {},
     "output_type": "display_data"
    },
    {
     "data": {
      "text/plain": [
       "<AxesSubplot:title={'center':'MultinomialNB Confusion Matrix'}, xlabel='Predicted Class', ylabel='True Class'>"
      ]
     },
     "execution_count": 20,
     "metadata": {},
     "output_type": "execute_result"
    }
   ],
   "source": [
    "from yellowbrick.classifier import ConfusionMatrix\n",
    "cm = ConfusionMatrix(mnb)\n",
    "cm.fit(X_train, y_train)\n",
    "cm.score(X_test, y_test)\n",
    "cm.show()"
   ]
  },
  {
   "cell_type": "markdown",
   "id": "6470e845",
   "metadata": {},
   "source": [
    "#### 4. KNN Classifier"
   ]
  },
  {
   "cell_type": "code",
   "execution_count": 22,
   "id": "d2c119bf",
   "metadata": {},
   "outputs": [],
   "source": [
    "# train a knn classifier\n",
    "\n",
    "# find the number of neighbors with the best performance\n",
    "nmc = 5\n",
    "testSize = 0.25\n",
    "training_accuracy = []\n",
    "test_accuracy = []\n",
    "neighbors_settings = range(1,101,2)\n",
    "for i in neighbors_settings:\n",
    "    knn = KNeighborsClassifier(n_neighbors=i)\n",
    "    shuffle = ShuffleSplit(n_splits=nmc,test_size=testSize)\n",
    "    CVInfo = cross_validate(knn,X,y,cv=shuffle,return_train_score=True)\n",
    "    # record train accuracy\n",
    "    training_accuracy.append(np.mean(CVInfo['train_score']))\n",
    "    # record test accuracy\n",
    "    test_accuracy.append(np.mean(CVInfo['test_score']))"
   ]
  },
  {
   "cell_type": "code",
   "execution_count": 23,
   "id": "7778db8a",
   "metadata": {},
   "outputs": [
    {
     "name": "stdout",
     "output_type": "stream",
     "text": [
      "75\n"
     ]
    }
   ],
   "source": [
    "maximum = 0\n",
    "index = []\n",
    "for i in range(len(test_accuracy)):\n",
    "    if test_accuracy[i] > maximum:\n",
    "        maximum = test_accuracy[i]\n",
    "        index.append(i)\n",
    "pos= index[-1]\n",
    "print(neighbors_settings[pos])  "
   ]
  },
  {
   "cell_type": "markdown",
   "id": "d3e8dd5c",
   "metadata": {},
   "source": [
    "The number of neighbors with the best performance is 73."
   ]
  },
  {
   "cell_type": "code",
   "execution_count": 24,
   "id": "3a180a6f",
   "metadata": {},
   "outputs": [
    {
     "name": "stdout",
     "output_type": "stream",
     "text": [
      "Train score: 0.3678195488721805\n",
      "Train sd: 0.02251073072799515\n",
      "Test score: 0.310561797752809\n",
      "Test sd: 0.03684022765181694\n"
     ]
    }
   ],
   "source": [
    "knn = KNeighborsClassifier(n_neighbors=73)\n",
    "nmc = 25\n",
    "testSize = 0.25\n",
    "shuffle = ShuffleSplit(n_splits=nmc,test_size=testSize)\n",
    "CVInfo = cross_validate(knn,X,y,cv=shuffle,return_train_score=True)\n",
    "\n",
    "knn_train_score = np.mean(CVInfo['train_score'])\n",
    "knn_test_score = np.mean(CVInfo['test_score'])\n",
    "# train score and test score\n",
    "print('Train score:',knn_train_score)\n",
    "print('Train sd:',np.std(CVInfo['train_score']))\n",
    "print('Test score:',knn_test_score)\n",
    "print('Test sd:',np.std(CVInfo['test_score']))"
   ]
  },
  {
   "cell_type": "code",
   "execution_count": 25,
   "id": "021845e5",
   "metadata": {},
   "outputs": [
    {
     "name": "stdout",
     "output_type": "stream",
     "text": [
      "[[29  0  0  1  6]\n",
      " [19  0  6  4  6]\n",
      " [23  0  7  2  4]\n",
      " [ 3  0  2 20 11]\n",
      " [ 6  0  1 13 15]]\n"
     ]
    }
   ],
   "source": [
    "knn = KNeighborsClassifier(n_neighbors=73)\n",
    "knn.fit(X_train, y_train)\n",
    "y_pred = knn.predict(X_test)\n",
    "\n",
    "# Estimate a confusion matrix\n",
    "from sklearn.metrics import confusion_matrix\n",
    "cmat = confusion_matrix(y_test, y_pred)\n",
    "print(cmat)"
   ]
  },
  {
   "cell_type": "code",
   "execution_count": 26,
   "id": "3376e930",
   "metadata": {},
   "outputs": [
    {
     "data": {
      "text/plain": [
       "0.6966292134831461"
      ]
     },
     "execution_count": 26,
     "metadata": {},
     "output_type": "execute_result"
    }
   ],
   "source": [
    "rough_accuracy(y_test,y_pred)"
   ]
  },
  {
   "cell_type": "code",
   "execution_count": 27,
   "id": "86fefc47",
   "metadata": {},
   "outputs": [
    {
     "name": "stdout",
     "output_type": "stream",
     "text": [
      "+---------------------------+-------------+------------+\n",
      "|           Model           | Train Score | Test Score |\n",
      "+---------------------------+-------------+------------+\n",
      "| Linear Regression (Lasso) |    67.93%   |   33.84%   |\n",
      "|       Random Forest       |    74.71%   |   42.70%   |\n",
      "|        Naive-Bayes        |    74.44%   |   42.22%   |\n",
      "|            KNN            |    36.78%   |   31.06%   |\n",
      "+---------------------------+-------------+------------+\n"
     ]
    }
   ],
   "source": [
    "from prettytable import PrettyTable\n",
    "x=PrettyTable()\n",
    "x.field_names=['Model','Train Score','Test Score']\n",
    "x.add_row(['Linear Regression (Lasso)',\"{:.2%}\".format(lasso_train_score),\"{:.2%}\".format(lasso_test_score)])\n",
    "x.add_row(['Random Forest',\"{:.2%}\".format(rf_train_score),\"{:.2%}\".format(rf_test_score)])\n",
    "x.add_row(['Naive-Bayes',\"{:.2%}\".format(mnb_train_score),\"{:.2%}\".format(mnb_test_score)])\n",
    "x.add_row(['KNN',\"{:.2%}\".format(knn_train_score),\"{:.2%}\".format(knn_test_score)])\n",
    "print(x)"
   ]
  },
  {
   "cell_type": "markdown",
   "id": "deed35da",
   "metadata": {},
   "source": [
    "Among these four models, I chose Naive-Bayes as it gets the highest test accuracy with minor overfitting problem."
   ]
  },
  {
   "cell_type": "code",
   "execution_count": null,
   "id": "1b42db41",
   "metadata": {},
   "outputs": [],
   "source": []
  }
 ],
 "metadata": {
  "kernelspec": {
   "display_name": "Python 3 (ipykernel)",
   "language": "python",
   "name": "python3"
  },
  "language_info": {
   "codemirror_mode": {
    "name": "ipython",
    "version": 3
   },
   "file_extension": ".py",
   "mimetype": "text/x-python",
   "name": "python",
   "nbconvert_exporter": "python",
   "pygments_lexer": "ipython3",
   "version": "3.8.8"
  }
 },
 "nbformat": 4,
 "nbformat_minor": 5
}
